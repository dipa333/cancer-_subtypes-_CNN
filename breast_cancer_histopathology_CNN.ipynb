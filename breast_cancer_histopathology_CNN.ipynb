{
  "nbformat": 4,
  "nbformat_minor": 0,
  "metadata": {
    "colab": {
      "provenance": []
    },
    "kernelspec": {
      "name": "python3",
      "display_name": "Python 3"
    },
    "language_info": {
      "name": "python"
    }
  },
  "cells": [
    {
      "cell_type": "markdown",
      "source": [
        "1. Setcup the colab and download the data"
      ],
      "metadata": {
        "id": "3jAwZPSBXbrr"
      }
    },
    {
      "cell_type": "code",
      "source": [
        "from google.colab import files, drive\n",
        "files.upload()                              # choose kaggle.json\n",
        "!mkdir -p ~/.kaggle && mv kaggle.json ~/.kaggle/\n",
        "!chmod 600 ~/.kaggle/kaggle.json\n",
        "!pip install -q kaggle"
      ],
      "metadata": {
        "colab": {
          "base_uri": "https://localhost:8080/",
          "height": 73
        },
        "id": "ppoggWASXm_p",
        "outputId": "cdae5edb-acce-4493-dfa4-e56ad67f036b"
      },
      "execution_count": null,
      "outputs": [
        {
          "output_type": "display_data",
          "data": {
            "text/plain": [
              "<IPython.core.display.HTML object>"
            ],
            "text/html": [
              "\n",
              "     <input type=\"file\" id=\"files-e890663e-56c4-4984-b956-3d29bba7b7d0\" name=\"files[]\" multiple disabled\n",
              "        style=\"border:none\" />\n",
              "     <output id=\"result-e890663e-56c4-4984-b956-3d29bba7b7d0\">\n",
              "      Upload widget is only available when the cell has been executed in the\n",
              "      current browser session. Please rerun this cell to enable.\n",
              "      </output>\n",
              "      <script>// Copyright 2017 Google LLC\n",
              "//\n",
              "// Licensed under the Apache License, Version 2.0 (the \"License\");\n",
              "// you may not use this file except in compliance with the License.\n",
              "// You may obtain a copy of the License at\n",
              "//\n",
              "//      http://www.apache.org/licenses/LICENSE-2.0\n",
              "//\n",
              "// Unless required by applicable law or agreed to in writing, software\n",
              "// distributed under the License is distributed on an \"AS IS\" BASIS,\n",
              "// WITHOUT WARRANTIES OR CONDITIONS OF ANY KIND, either express or implied.\n",
              "// See the License for the specific language governing permissions and\n",
              "// limitations under the License.\n",
              "\n",
              "/**\n",
              " * @fileoverview Helpers for google.colab Python module.\n",
              " */\n",
              "(function(scope) {\n",
              "function span(text, styleAttributes = {}) {\n",
              "  const element = document.createElement('span');\n",
              "  element.textContent = text;\n",
              "  for (const key of Object.keys(styleAttributes)) {\n",
              "    element.style[key] = styleAttributes[key];\n",
              "  }\n",
              "  return element;\n",
              "}\n",
              "\n",
              "// Max number of bytes which will be uploaded at a time.\n",
              "const MAX_PAYLOAD_SIZE = 100 * 1024;\n",
              "\n",
              "function _uploadFiles(inputId, outputId) {\n",
              "  const steps = uploadFilesStep(inputId, outputId);\n",
              "  const outputElement = document.getElementById(outputId);\n",
              "  // Cache steps on the outputElement to make it available for the next call\n",
              "  // to uploadFilesContinue from Python.\n",
              "  outputElement.steps = steps;\n",
              "\n",
              "  return _uploadFilesContinue(outputId);\n",
              "}\n",
              "\n",
              "// This is roughly an async generator (not supported in the browser yet),\n",
              "// where there are multiple asynchronous steps and the Python side is going\n",
              "// to poll for completion of each step.\n",
              "// This uses a Promise to block the python side on completion of each step,\n",
              "// then passes the result of the previous step as the input to the next step.\n",
              "function _uploadFilesContinue(outputId) {\n",
              "  const outputElement = document.getElementById(outputId);\n",
              "  const steps = outputElement.steps;\n",
              "\n",
              "  const next = steps.next(outputElement.lastPromiseValue);\n",
              "  return Promise.resolve(next.value.promise).then((value) => {\n",
              "    // Cache the last promise value to make it available to the next\n",
              "    // step of the generator.\n",
              "    outputElement.lastPromiseValue = value;\n",
              "    return next.value.response;\n",
              "  });\n",
              "}\n",
              "\n",
              "/**\n",
              " * Generator function which is called between each async step of the upload\n",
              " * process.\n",
              " * @param {string} inputId Element ID of the input file picker element.\n",
              " * @param {string} outputId Element ID of the output display.\n",
              " * @return {!Iterable<!Object>} Iterable of next steps.\n",
              " */\n",
              "function* uploadFilesStep(inputId, outputId) {\n",
              "  const inputElement = document.getElementById(inputId);\n",
              "  inputElement.disabled = false;\n",
              "\n",
              "  const outputElement = document.getElementById(outputId);\n",
              "  outputElement.innerHTML = '';\n",
              "\n",
              "  const pickedPromise = new Promise((resolve) => {\n",
              "    inputElement.addEventListener('change', (e) => {\n",
              "      resolve(e.target.files);\n",
              "    });\n",
              "  });\n",
              "\n",
              "  const cancel = document.createElement('button');\n",
              "  inputElement.parentElement.appendChild(cancel);\n",
              "  cancel.textContent = 'Cancel upload';\n",
              "  const cancelPromise = new Promise((resolve) => {\n",
              "    cancel.onclick = () => {\n",
              "      resolve(null);\n",
              "    };\n",
              "  });\n",
              "\n",
              "  // Wait for the user to pick the files.\n",
              "  const files = yield {\n",
              "    promise: Promise.race([pickedPromise, cancelPromise]),\n",
              "    response: {\n",
              "      action: 'starting',\n",
              "    }\n",
              "  };\n",
              "\n",
              "  cancel.remove();\n",
              "\n",
              "  // Disable the input element since further picks are not allowed.\n",
              "  inputElement.disabled = true;\n",
              "\n",
              "  if (!files) {\n",
              "    return {\n",
              "      response: {\n",
              "        action: 'complete',\n",
              "      }\n",
              "    };\n",
              "  }\n",
              "\n",
              "  for (const file of files) {\n",
              "    const li = document.createElement('li');\n",
              "    li.append(span(file.name, {fontWeight: 'bold'}));\n",
              "    li.append(span(\n",
              "        `(${file.type || 'n/a'}) - ${file.size} bytes, ` +\n",
              "        `last modified: ${\n",
              "            file.lastModifiedDate ? file.lastModifiedDate.toLocaleDateString() :\n",
              "                                    'n/a'} - `));\n",
              "    const percent = span('0% done');\n",
              "    li.appendChild(percent);\n",
              "\n",
              "    outputElement.appendChild(li);\n",
              "\n",
              "    const fileDataPromise = new Promise((resolve) => {\n",
              "      const reader = new FileReader();\n",
              "      reader.onload = (e) => {\n",
              "        resolve(e.target.result);\n",
              "      };\n",
              "      reader.readAsArrayBuffer(file);\n",
              "    });\n",
              "    // Wait for the data to be ready.\n",
              "    let fileData = yield {\n",
              "      promise: fileDataPromise,\n",
              "      response: {\n",
              "        action: 'continue',\n",
              "      }\n",
              "    };\n",
              "\n",
              "    // Use a chunked sending to avoid message size limits. See b/62115660.\n",
              "    let position = 0;\n",
              "    do {\n",
              "      const length = Math.min(fileData.byteLength - position, MAX_PAYLOAD_SIZE);\n",
              "      const chunk = new Uint8Array(fileData, position, length);\n",
              "      position += length;\n",
              "\n",
              "      const base64 = btoa(String.fromCharCode.apply(null, chunk));\n",
              "      yield {\n",
              "        response: {\n",
              "          action: 'append',\n",
              "          file: file.name,\n",
              "          data: base64,\n",
              "        },\n",
              "      };\n",
              "\n",
              "      let percentDone = fileData.byteLength === 0 ?\n",
              "          100 :\n",
              "          Math.round((position / fileData.byteLength) * 100);\n",
              "      percent.textContent = `${percentDone}% done`;\n",
              "\n",
              "    } while (position < fileData.byteLength);\n",
              "  }\n",
              "\n",
              "  // All done.\n",
              "  yield {\n",
              "    response: {\n",
              "      action: 'complete',\n",
              "    }\n",
              "  };\n",
              "}\n",
              "\n",
              "scope.google = scope.google || {};\n",
              "scope.google.colab = scope.google.colab || {};\n",
              "scope.google.colab._files = {\n",
              "  _uploadFiles,\n",
              "  _uploadFilesContinue,\n",
              "};\n",
              "})(self);\n",
              "</script> "
            ]
          },
          "metadata": {}
        },
        {
          "output_type": "stream",
          "name": "stdout",
          "text": [
            "Saving kaggle.json to kaggle.json\n"
          ]
        }
      ]
    },
    {
      "cell_type": "code",
      "execution_count": null,
      "metadata": {
        "colab": {
          "base_uri": "https://localhost:8080/"
        },
        "id": "_Q-BnO7hXaXx",
        "outputId": "4fca9bfd-1db6-4e85-efd7-64f40292db3e"
      },
      "outputs": [
        {
          "output_type": "stream",
          "name": "stdout",
          "text": [
            "Dataset URL: https://www.kaggle.com/datasets/paultimothymooney/breast-histopathology-images\n",
            "License(s): CC0-1.0\n",
            "Downloading breast-histopathology-images.zip to /content\n",
            " 99% 3.06G/3.10G [00:27<00:00, 128MB/s] \n",
            "100% 3.10G/3.10G [00:27<00:00, 120MB/s]\n"
          ]
        }
      ],
      "source": [
        "!kaggle datasets download -d paultimothymooney/breast-histopathology-images\n",
        "!unzip -q breast-histopathology-images.zip"
      ]
    },
    {
      "cell_type": "code",
      "source": [
        "ls -ltr"
      ],
      "metadata": {
        "colab": {
          "base_uri": "https://localhost:8080/"
        },
        "id": "LnA56jspYoHK",
        "outputId": "491d7e26-bc8a-42b0-a3b3-216b91da27f3"
      },
      "execution_count": null,
      "outputs": [
        {
          "output_type": "stream",
          "name": "stdout",
          "text": [
            "total 3249988\n",
            "-rw-r--r--   1 root root 3326820824 Sep 25  2019 breast-histopathology-images.zip\n",
            "drwxr-xr-x   1 root root       4096 Jul 10 13:35 \u001b[0m\u001b[01;34msample_data\u001b[0m/\n",
            "drwxr-xr-x   4 root root       4096 Jul 12 06:44 \u001b[01;34m10253\u001b[0m/\n",
            "drwxr-xr-x   4 root root       4096 Jul 12 06:44 \u001b[01;34m10254\u001b[0m/\n",
            "drwxr-xr-x   4 root root       4096 Jul 12 06:44 \u001b[01;34m10255\u001b[0m/\n",
            "drwxr-xr-x   4 root root       4096 Jul 12 06:44 \u001b[01;34m10256\u001b[0m/\n",
            "drwxr-xr-x   4 root root       4096 Jul 12 06:44 \u001b[01;34m10257\u001b[0m/\n",
            "drwxr-xr-x   4 root root       4096 Jul 12 06:44 \u001b[01;34m10258\u001b[0m/\n",
            "drwxr-xr-x   4 root root       4096 Jul 12 06:44 \u001b[01;34m10259\u001b[0m/\n",
            "drwxr-xr-x   4 root root       4096 Jul 12 06:44 \u001b[01;34m10260\u001b[0m/\n",
            "drwxr-xr-x   4 root root       4096 Jul 12 06:44 \u001b[01;34m10261\u001b[0m/\n",
            "drwxr-xr-x   4 root root       4096 Jul 12 06:44 \u001b[01;34m10262\u001b[0m/\n",
            "drwxr-xr-x   4 root root       4096 Jul 12 06:44 \u001b[01;34m10264\u001b[0m/\n",
            "drwxr-xr-x   4 root root       4096 Jul 12 06:44 \u001b[01;34m10268\u001b[0m/\n",
            "drwxr-xr-x   4 root root       4096 Jul 12 06:44 \u001b[01;34m10269\u001b[0m/\n",
            "drwxr-xr-x   4 root root       4096 Jul 12 06:44 \u001b[01;34m10272\u001b[0m/\n",
            "drwxr-xr-x   4 root root       4096 Jul 12 06:44 \u001b[01;34m10273\u001b[0m/\n",
            "drwxr-xr-x   4 root root       4096 Jul 12 06:44 \u001b[01;34m10274\u001b[0m/\n",
            "drwxr-xr-x   4 root root       4096 Jul 12 06:44 \u001b[01;34m10275\u001b[0m/\n",
            "drwxr-xr-x   4 root root       4096 Jul 12 06:44 \u001b[01;34m10276\u001b[0m/\n",
            "drwxr-xr-x   4 root root       4096 Jul 12 06:44 \u001b[01;34m10277\u001b[0m/\n",
            "drwxr-xr-x   4 root root       4096 Jul 12 06:44 \u001b[01;34m10278\u001b[0m/\n",
            "drwxr-xr-x   4 root root       4096 Jul 12 06:44 \u001b[01;34m10279\u001b[0m/\n",
            "drwxr-xr-x   4 root root       4096 Jul 12 06:44 \u001b[01;34m10282\u001b[0m/\n",
            "drwxr-xr-x   4 root root       4096 Jul 12 06:44 \u001b[01;34m10285\u001b[0m/\n",
            "drwxr-xr-x   4 root root       4096 Jul 12 06:44 \u001b[01;34m10286\u001b[0m/\n",
            "drwxr-xr-x   4 root root       4096 Jul 12 06:44 \u001b[01;34m10288\u001b[0m/\n",
            "drwxr-xr-x   4 root root       4096 Jul 12 06:44 \u001b[01;34m10290\u001b[0m/\n",
            "drwxr-xr-x   4 root root       4096 Jul 12 06:44 \u001b[01;34m10291\u001b[0m/\n",
            "drwxr-xr-x   4 root root       4096 Jul 12 06:44 \u001b[01;34m10292\u001b[0m/\n",
            "drwxr-xr-x   4 root root       4096 Jul 12 06:44 \u001b[01;34m10293\u001b[0m/\n",
            "drwxr-xr-x   4 root root       4096 Jul 12 06:44 \u001b[01;34m10295\u001b[0m/\n",
            "drwxr-xr-x   4 root root       4096 Jul 12 06:44 \u001b[01;34m10299\u001b[0m/\n",
            "drwxr-xr-x   4 root root       4096 Jul 12 06:44 \u001b[01;34m10300\u001b[0m/\n",
            "drwxr-xr-x   4 root root       4096 Jul 12 06:44 \u001b[01;34m10301\u001b[0m/\n",
            "drwxr-xr-x   4 root root       4096 Jul 12 06:44 \u001b[01;34m10302\u001b[0m/\n",
            "drwxr-xr-x   4 root root       4096 Jul 12 06:44 \u001b[01;34m10303\u001b[0m/\n",
            "drwxr-xr-x   4 root root       4096 Jul 12 06:44 \u001b[01;34m10304\u001b[0m/\n",
            "drwxr-xr-x   4 root root       4096 Jul 12 06:44 \u001b[01;34m10305\u001b[0m/\n",
            "drwxr-xr-x   4 root root       4096 Jul 12 06:45 \u001b[01;34m10306\u001b[0m/\n",
            "drwxr-xr-x   4 root root       4096 Jul 12 06:45 \u001b[01;34m10307\u001b[0m/\n",
            "drwxr-xr-x   4 root root       4096 Jul 12 06:45 \u001b[01;34m10308\u001b[0m/\n",
            "drwxr-xr-x   4 root root       4096 Jul 12 06:45 \u001b[01;34m12241\u001b[0m/\n",
            "drwxr-xr-x   4 root root       4096 Jul 12 06:45 \u001b[01;34m12242\u001b[0m/\n",
            "drwxr-xr-x   4 root root       4096 Jul 12 06:45 \u001b[01;34m12626\u001b[0m/\n",
            "drwxr-xr-x   4 root root       4096 Jul 12 06:45 \u001b[01;34m12748\u001b[0m/\n",
            "drwxr-xr-x   4 root root       4096 Jul 12 06:45 \u001b[01;34m12749\u001b[0m/\n",
            "drwxr-xr-x   4 root root       4096 Jul 12 06:45 \u001b[01;34m12750\u001b[0m/\n",
            "drwxr-xr-x   4 root root       4096 Jul 12 06:45 \u001b[01;34m12751\u001b[0m/\n",
            "drwxr-xr-x   4 root root       4096 Jul 12 06:45 \u001b[01;34m12752\u001b[0m/\n",
            "drwxr-xr-x   4 root root       4096 Jul 12 06:45 \u001b[01;34m12810\u001b[0m/\n",
            "drwxr-xr-x   4 root root       4096 Jul 12 06:45 \u001b[01;34m12811\u001b[0m/\n",
            "drwxr-xr-x   4 root root       4096 Jul 12 06:45 \u001b[01;34m12817\u001b[0m/\n",
            "drwxr-xr-x   4 root root       4096 Jul 12 06:45 \u001b[01;34m12818\u001b[0m/\n",
            "drwxr-xr-x   4 root root       4096 Jul 12 06:45 \u001b[01;34m12819\u001b[0m/\n",
            "drwxr-xr-x   4 root root       4096 Jul 12 06:45 \u001b[01;34m12820\u001b[0m/\n",
            "drwxr-xr-x   4 root root       4096 Jul 12 06:45 \u001b[01;34m12821\u001b[0m/\n",
            "drwxr-xr-x   4 root root       4096 Jul 12 06:45 \u001b[01;34m12822\u001b[0m/\n",
            "drwxr-xr-x   4 root root       4096 Jul 12 06:45 \u001b[01;34m12823\u001b[0m/\n",
            "drwxr-xr-x   4 root root       4096 Jul 12 06:45 \u001b[01;34m12824\u001b[0m/\n",
            "drwxr-xr-x   4 root root       4096 Jul 12 06:45 \u001b[01;34m12826\u001b[0m/\n",
            "drwxr-xr-x   4 root root       4096 Jul 12 06:45 \u001b[01;34m12867\u001b[0m/\n",
            "drwxr-xr-x   4 root root       4096 Jul 12 06:45 \u001b[01;34m12868\u001b[0m/\n",
            "drwxr-xr-x   4 root root       4096 Jul 12 06:45 \u001b[01;34m12869\u001b[0m/\n",
            "drwxr-xr-x   4 root root       4096 Jul 12 06:45 \u001b[01;34m12870\u001b[0m/\n",
            "drwxr-xr-x   4 root root       4096 Jul 12 06:45 \u001b[01;34m12871\u001b[0m/\n",
            "drwxr-xr-x   4 root root       4096 Jul 12 06:45 \u001b[01;34m12872\u001b[0m/\n",
            "drwxr-xr-x   4 root root       4096 Jul 12 06:45 \u001b[01;34m12873\u001b[0m/\n",
            "drwxr-xr-x   4 root root       4096 Jul 12 06:45 \u001b[01;34m12875\u001b[0m/\n",
            "drwxr-xr-x   4 root root       4096 Jul 12 06:45 \u001b[01;34m12876\u001b[0m/\n",
            "drwxr-xr-x   4 root root       4096 Jul 12 06:45 \u001b[01;34m12877\u001b[0m/\n",
            "drwxr-xr-x   4 root root       4096 Jul 12 06:45 \u001b[01;34m12878\u001b[0m/\n",
            "drwxr-xr-x   4 root root       4096 Jul 12 06:45 \u001b[01;34m12879\u001b[0m/\n",
            "drwxr-xr-x   4 root root       4096 Jul 12 06:45 \u001b[01;34m12880\u001b[0m/\n",
            "drwxr-xr-x   4 root root       4096 Jul 12 06:45 \u001b[01;34m12881\u001b[0m/\n",
            "drwxr-xr-x   4 root root       4096 Jul 12 06:45 \u001b[01;34m12882\u001b[0m/\n",
            "drwxr-xr-x   4 root root       4096 Jul 12 06:45 \u001b[01;34m12883\u001b[0m/\n",
            "drwxr-xr-x   4 root root       4096 Jul 12 06:45 \u001b[01;34m12884\u001b[0m/\n",
            "drwxr-xr-x   4 root root       4096 Jul 12 06:45 \u001b[01;34m12886\u001b[0m/\n",
            "drwxr-xr-x   4 root root       4096 Jul 12 06:45 \u001b[01;34m12890\u001b[0m/\n",
            "drwxr-xr-x   4 root root       4096 Jul 12 06:45 \u001b[01;34m12891\u001b[0m/\n",
            "drwxr-xr-x   4 root root       4096 Jul 12 06:45 \u001b[01;34m12892\u001b[0m/\n",
            "drwxr-xr-x   4 root root       4096 Jul 12 06:45 \u001b[01;34m12893\u001b[0m/\n",
            "drwxr-xr-x   4 root root       4096 Jul 12 06:45 \u001b[01;34m12894\u001b[0m/\n",
            "drwxr-xr-x   4 root root       4096 Jul 12 06:45 \u001b[01;34m12895\u001b[0m/\n",
            "drwxr-xr-x   4 root root       4096 Jul 12 06:45 \u001b[01;34m12896\u001b[0m/\n",
            "drwxr-xr-x   4 root root       4096 Jul 12 06:45 \u001b[01;34m12897\u001b[0m/\n",
            "drwxr-xr-x   4 root root       4096 Jul 12 06:45 \u001b[01;34m12898\u001b[0m/\n",
            "drwxr-xr-x   4 root root       4096 Jul 12 06:45 \u001b[01;34m12900\u001b[0m/\n",
            "drwxr-xr-x   4 root root       4096 Jul 12 06:45 \u001b[01;34m12901\u001b[0m/\n",
            "drwxr-xr-x   4 root root       4096 Jul 12 06:45 \u001b[01;34m12905\u001b[0m/\n",
            "drwxr-xr-x   4 root root       4096 Jul 12 06:45 \u001b[01;34m12906\u001b[0m/\n",
            "drwxr-xr-x   4 root root       4096 Jul 12 06:45 \u001b[01;34m12907\u001b[0m/\n",
            "drwxr-xr-x   4 root root       4096 Jul 12 06:45 \u001b[01;34m12908\u001b[0m/\n",
            "drwxr-xr-x   4 root root       4096 Jul 12 06:45 \u001b[01;34m12909\u001b[0m/\n",
            "drwxr-xr-x   4 root root       4096 Jul 12 06:45 \u001b[01;34m12910\u001b[0m/\n",
            "drwxr-xr-x   4 root root       4096 Jul 12 06:45 \u001b[01;34m12911\u001b[0m/\n",
            "drwxr-xr-x   4 root root       4096 Jul 12 06:45 \u001b[01;34m12929\u001b[0m/\n",
            "drwxr-xr-x   4 root root       4096 Jul 12 06:45 \u001b[01;34m12930\u001b[0m/\n",
            "drwxr-xr-x   4 root root       4096 Jul 12 06:45 \u001b[01;34m12931\u001b[0m/\n",
            "drwxr-xr-x   4 root root       4096 Jul 12 06:45 \u001b[01;34m12932\u001b[0m/\n",
            "drwxr-xr-x   4 root root       4096 Jul 12 06:45 \u001b[01;34m12933\u001b[0m/\n",
            "drwxr-xr-x   4 root root       4096 Jul 12 06:45 \u001b[01;34m12934\u001b[0m/\n",
            "drwxr-xr-x   4 root root       4096 Jul 12 06:45 \u001b[01;34m12935\u001b[0m/\n",
            "drwxr-xr-x   4 root root       4096 Jul 12 06:45 \u001b[01;34m12947\u001b[0m/\n",
            "drwxr-xr-x   4 root root       4096 Jul 12 06:45 \u001b[01;34m12948\u001b[0m/\n",
            "drwxr-xr-x   4 root root       4096 Jul 12 06:45 \u001b[01;34m12949\u001b[0m/\n",
            "drwxr-xr-x   4 root root       4096 Jul 12 06:45 \u001b[01;34m12951\u001b[0m/\n",
            "drwxr-xr-x   4 root root       4096 Jul 12 06:45 \u001b[01;34m12954\u001b[0m/\n",
            "drwxr-xr-x   4 root root       4096 Jul 12 06:45 \u001b[01;34m12955\u001b[0m/\n",
            "drwxr-xr-x   4 root root       4096 Jul 12 06:45 \u001b[01;34m13018\u001b[0m/\n",
            "drwxr-xr-x   4 root root       4096 Jul 12 06:45 \u001b[01;34m13019\u001b[0m/\n",
            "drwxr-xr-x   4 root root       4096 Jul 12 06:45 \u001b[01;34m13020\u001b[0m/\n",
            "drwxr-xr-x   4 root root       4096 Jul 12 06:45 \u001b[01;34m13021\u001b[0m/\n",
            "drwxr-xr-x   4 root root       4096 Jul 12 06:45 \u001b[01;34m13022\u001b[0m/\n",
            "drwxr-xr-x   4 root root       4096 Jul 12 06:45 \u001b[01;34m13023\u001b[0m/\n",
            "drwxr-xr-x   4 root root       4096 Jul 12 06:45 \u001b[01;34m13024\u001b[0m/\n",
            "drwxr-xr-x   4 root root       4096 Jul 12 06:45 \u001b[01;34m13025\u001b[0m/\n",
            "drwxr-xr-x   4 root root       4096 Jul 12 06:45 \u001b[01;34m13106\u001b[0m/\n",
            "drwxr-xr-x   4 root root       4096 Jul 12 06:45 \u001b[01;34m13400\u001b[0m/\n",
            "drwxr-xr-x   4 root root       4096 Jul 12 06:45 \u001b[01;34m13401\u001b[0m/\n",
            "drwxr-xr-x   4 root root       4096 Jul 12 06:45 \u001b[01;34m13402\u001b[0m/\n",
            "drwxr-xr-x   4 root root       4096 Jul 12 06:45 \u001b[01;34m13403\u001b[0m/\n",
            "drwxr-xr-x   4 root root       4096 Jul 12 06:45 \u001b[01;34m13404\u001b[0m/\n",
            "drwxr-xr-x   4 root root       4096 Jul 12 06:45 \u001b[01;34m13458\u001b[0m/\n",
            "drwxr-xr-x   4 root root       4096 Jul 12 06:45 \u001b[01;34m13459\u001b[0m/\n",
            "drwxr-xr-x   4 root root       4096 Jul 12 06:45 \u001b[01;34m13460\u001b[0m/\n",
            "drwxr-xr-x   4 root root       4096 Jul 12 06:45 \u001b[01;34m13461\u001b[0m/\n",
            "drwxr-xr-x   4 root root       4096 Jul 12 06:45 \u001b[01;34m13462\u001b[0m/\n",
            "drwxr-xr-x   4 root root       4096 Jul 12 06:45 \u001b[01;34m13591\u001b[0m/\n",
            "drwxr-xr-x   4 root root       4096 Jul 12 06:45 \u001b[01;34m13613\u001b[0m/\n",
            "drwxr-xr-x   4 root root       4096 Jul 12 06:45 \u001b[01;34m13616\u001b[0m/\n",
            "drwxr-xr-x   4 root root       4096 Jul 12 06:45 \u001b[01;34m13617\u001b[0m/\n",
            "drwxr-xr-x   4 root root       4096 Jul 12 06:45 \u001b[01;34m13666\u001b[0m/\n",
            "drwxr-xr-x   4 root root       4096 Jul 12 06:45 \u001b[01;34m13687\u001b[0m/\n",
            "drwxr-xr-x   4 root root       4096 Jul 12 06:45 \u001b[01;34m13688\u001b[0m/\n",
            "drwxr-xr-x   4 root root       4096 Jul 12 06:45 \u001b[01;34m13689\u001b[0m/\n",
            "drwxr-xr-x   4 root root       4096 Jul 12 06:45 \u001b[01;34m13691\u001b[0m/\n",
            "drwxr-xr-x   4 root root       4096 Jul 12 06:45 \u001b[01;34m13692\u001b[0m/\n",
            "drwxr-xr-x   4 root root       4096 Jul 12 06:45 \u001b[01;34m13693\u001b[0m/\n",
            "drwxr-xr-x   4 root root       4096 Jul 12 06:45 \u001b[01;34m13694\u001b[0m/\n",
            "drwxr-xr-x   4 root root       4096 Jul 12 06:45 \u001b[01;34m13916\u001b[0m/\n",
            "drwxr-xr-x   4 root root       4096 Jul 12 06:45 \u001b[01;34m14078\u001b[0m/\n",
            "drwxr-xr-x   4 root root       4096 Jul 12 06:45 \u001b[01;34m14079\u001b[0m/\n",
            "drwxr-xr-x   4 root root       4096 Jul 12 06:45 \u001b[01;34m14081\u001b[0m/\n",
            "drwxr-xr-x   4 root root       4096 Jul 12 06:45 \u001b[01;34m14082\u001b[0m/\n",
            "drwxr-xr-x   4 root root       4096 Jul 12 06:45 \u001b[01;34m14153\u001b[0m/\n",
            "drwxr-xr-x   4 root root       4096 Jul 12 06:45 \u001b[01;34m14154\u001b[0m/\n",
            "drwxr-xr-x   4 root root       4096 Jul 12 06:45 \u001b[01;34m14155\u001b[0m/\n",
            "drwxr-xr-x   4 root root       4096 Jul 12 06:45 \u001b[01;34m14156\u001b[0m/\n",
            "drwxr-xr-x   4 root root       4096 Jul 12 06:45 \u001b[01;34m14157\u001b[0m/\n",
            "drwxr-xr-x   4 root root       4096 Jul 12 06:45 \u001b[01;34m14188\u001b[0m/\n",
            "drwxr-xr-x   4 root root       4096 Jul 12 06:45 \u001b[01;34m14189\u001b[0m/\n",
            "drwxr-xr-x   4 root root       4096 Jul 12 06:45 \u001b[01;34m14190\u001b[0m/\n",
            "drwxr-xr-x   4 root root       4096 Jul 12 06:45 \u001b[01;34m14191\u001b[0m/\n",
            "drwxr-xr-x   4 root root       4096 Jul 12 06:45 \u001b[01;34m14192\u001b[0m/\n",
            "drwxr-xr-x   4 root root       4096 Jul 12 06:45 \u001b[01;34m14209\u001b[0m/\n",
            "drwxr-xr-x   4 root root       4096 Jul 12 06:45 \u001b[01;34m14210\u001b[0m/\n",
            "drwxr-xr-x   4 root root       4096 Jul 12 06:45 \u001b[01;34m14211\u001b[0m/\n",
            "drwxr-xr-x   4 root root       4096 Jul 12 06:45 \u001b[01;34m14212\u001b[0m/\n",
            "drwxr-xr-x   4 root root       4096 Jul 12 06:45 \u001b[01;34m14213\u001b[0m/\n",
            "drwxr-xr-x   4 root root       4096 Jul 12 06:45 \u001b[01;34m14304\u001b[0m/\n",
            "drwxr-xr-x   4 root root       4096 Jul 12 06:45 \u001b[01;34m14305\u001b[0m/\n",
            "drwxr-xr-x   4 root root       4096 Jul 12 06:45 \u001b[01;34m14306\u001b[0m/\n",
            "drwxr-xr-x   4 root root       4096 Jul 12 06:45 \u001b[01;34m14321\u001b[0m/\n",
            "drwxr-xr-x   4 root root       4096 Jul 12 06:45 \u001b[01;34m15471\u001b[0m/\n",
            "drwxr-xr-x   4 root root       4096 Jul 12 06:45 \u001b[01;34m15472\u001b[0m/\n",
            "drwxr-xr-x   4 root root       4096 Jul 12 06:45 \u001b[01;34m15473\u001b[0m/\n",
            "drwxr-xr-x   4 root root       4096 Jul 12 06:45 \u001b[01;34m15510\u001b[0m/\n",
            "drwxr-xr-x   4 root root       4096 Jul 12 06:45 \u001b[01;34m15512\u001b[0m/\n",
            "drwxr-xr-x   4 root root       4096 Jul 12 06:45 \u001b[01;34m15513\u001b[0m/\n",
            "drwxr-xr-x   4 root root       4096 Jul 12 06:45 \u001b[01;34m15514\u001b[0m/\n",
            "drwxr-xr-x   4 root root       4096 Jul 12 06:45 \u001b[01;34m15515\u001b[0m/\n",
            "drwxr-xr-x   4 root root       4096 Jul 12 06:45 \u001b[01;34m15516\u001b[0m/\n",
            "drwxr-xr-x   4 root root       4096 Jul 12 06:45 \u001b[01;34m15632\u001b[0m/\n",
            "drwxr-xr-x   4 root root       4096 Jul 12 06:45 \u001b[01;34m15633\u001b[0m/\n",
            "drwxr-xr-x   4 root root       4096 Jul 12 06:45 \u001b[01;34m15634\u001b[0m/\n",
            "drwxr-xr-x   4 root root       4096 Jul 12 06:45 \u001b[01;34m15839\u001b[0m/\n",
            "drwxr-xr-x   4 root root       4096 Jul 12 06:45 \u001b[01;34m15840\u001b[0m/\n",
            "drwxr-xr-x   4 root root       4096 Jul 12 06:45 \u001b[01;34m15902\u001b[0m/\n",
            "drwxr-xr-x   4 root root       4096 Jul 12 06:45 \u001b[01;34m15903\u001b[0m/\n",
            "drwxr-xr-x   4 root root       4096 Jul 12 06:45 \u001b[01;34m16014\u001b[0m/\n",
            "drwxr-xr-x   4 root root       4096 Jul 12 06:45 \u001b[01;34m16085\u001b[0m/\n",
            "drwxr-xr-x   4 root root       4096 Jul 12 06:45 \u001b[01;34m16165\u001b[0m/\n",
            "drwxr-xr-x   4 root root       4096 Jul 12 06:45 \u001b[01;34m16166\u001b[0m/\n",
            "drwxr-xr-x   4 root root       4096 Jul 12 06:45 \u001b[01;34m16167\u001b[0m/\n",
            "drwxr-xr-x   4 root root       4096 Jul 12 06:45 \u001b[01;34m16531\u001b[0m/\n",
            "drwxr-xr-x   4 root root       4096 Jul 12 06:45 \u001b[01;34m16532\u001b[0m/\n",
            "drwxr-xr-x   4 root root       4096 Jul 12 06:45 \u001b[01;34m16533\u001b[0m/\n",
            "drwxr-xr-x   4 root root       4096 Jul 12 06:45 \u001b[01;34m16534\u001b[0m/\n",
            "drwxr-xr-x   4 root root       4096 Jul 12 06:45 \u001b[01;34m16550\u001b[0m/\n",
            "drwxr-xr-x   4 root root       4096 Jul 12 06:45 \u001b[01;34m16551\u001b[0m/\n",
            "drwxr-xr-x   4 root root       4096 Jul 12 06:45 \u001b[01;34m16552\u001b[0m/\n",
            "drwxr-xr-x   4 root root       4096 Jul 12 06:45 \u001b[01;34m16553\u001b[0m/\n",
            "drwxr-xr-x   4 root root       4096 Jul 12 06:45 \u001b[01;34m16554\u001b[0m/\n",
            "drwxr-xr-x   4 root root       4096 Jul 12 06:45 \u001b[01;34m16555\u001b[0m/\n",
            "drwxr-xr-x   4 root root       4096 Jul 12 06:45 \u001b[01;34m16568\u001b[0m/\n",
            "drwxr-xr-x   4 root root       4096 Jul 12 06:45 \u001b[01;34m16569\u001b[0m/\n",
            "drwxr-xr-x   4 root root       4096 Jul 12 06:45 \u001b[01;34m16570\u001b[0m/\n",
            "drwxr-xr-x   4 root root       4096 Jul 12 06:45 \u001b[01;34m16895\u001b[0m/\n",
            "drwxr-xr-x   4 root root       4096 Jul 12 06:45 \u001b[01;34m16896\u001b[0m/\n",
            "drwxr-xr-x   4 root root       4096 Jul 12 06:45 \u001b[01;34m8863\u001b[0m/\n",
            "drwxr-xr-x   4 root root       4096 Jul 12 06:45 \u001b[01;34m8864\u001b[0m/\n",
            "drwxr-xr-x   4 root root       4096 Jul 12 06:45 \u001b[01;34m8865\u001b[0m/\n",
            "drwxr-xr-x   4 root root       4096 Jul 12 06:45 \u001b[01;34m8867\u001b[0m/\n",
            "drwxr-xr-x   4 root root       4096 Jul 12 06:45 \u001b[01;34m8913\u001b[0m/\n",
            "drwxr-xr-x   4 root root       4096 Jul 12 06:45 \u001b[01;34m8914\u001b[0m/\n",
            "drwxr-xr-x   4 root root       4096 Jul 12 06:45 \u001b[01;34m8916\u001b[0m/\n",
            "drwxr-xr-x   4 root root       4096 Jul 12 06:45 \u001b[01;34m8917\u001b[0m/\n",
            "drwxr-xr-x   4 root root       4096 Jul 12 06:45 \u001b[01;34m8918\u001b[0m/\n",
            "drwxr-xr-x   4 root root       4096 Jul 12 06:45 \u001b[01;34m8950\u001b[0m/\n",
            "drwxr-xr-x   4 root root       4096 Jul 12 06:45 \u001b[01;34m8951\u001b[0m/\n",
            "drwxr-xr-x   4 root root       4096 Jul 12 06:45 \u001b[01;34m8955\u001b[0m/\n",
            "drwxr-xr-x   4 root root       4096 Jul 12 06:45 \u001b[01;34m8956\u001b[0m/\n",
            "drwxr-xr-x   4 root root       4096 Jul 12 06:45 \u001b[01;34m8957\u001b[0m/\n",
            "drwxr-xr-x   4 root root       4096 Jul 12 06:45 \u001b[01;34m8959\u001b[0m/\n",
            "drwxr-xr-x   4 root root       4096 Jul 12 06:45 \u001b[01;34m8974\u001b[0m/\n",
            "drwxr-xr-x   4 root root       4096 Jul 12 06:45 \u001b[01;34m8975\u001b[0m/\n",
            "drwxr-xr-x   4 root root       4096 Jul 12 06:45 \u001b[01;34m8980\u001b[0m/\n",
            "drwxr-xr-x   4 root root       4096 Jul 12 06:45 \u001b[01;34m8984\u001b[0m/\n",
            "drwxr-xr-x   4 root root       4096 Jul 12 06:45 \u001b[01;34m9022\u001b[0m/\n",
            "drwxr-xr-x   4 root root       4096 Jul 12 06:45 \u001b[01;34m9023\u001b[0m/\n",
            "drwxr-xr-x   4 root root       4096 Jul 12 06:45 \u001b[01;34m9029\u001b[0m/\n",
            "drwxr-xr-x   4 root root       4096 Jul 12 06:45 \u001b[01;34m9035\u001b[0m/\n",
            "drwxr-xr-x   4 root root       4096 Jul 12 06:45 \u001b[01;34m9036\u001b[0m/\n",
            "drwxr-xr-x   4 root root       4096 Jul 12 06:45 \u001b[01;34m9037\u001b[0m/\n",
            "drwxr-xr-x   4 root root       4096 Jul 12 06:45 \u001b[01;34m9041\u001b[0m/\n",
            "drwxr-xr-x   4 root root       4096 Jul 12 06:45 \u001b[01;34m9043\u001b[0m/\n",
            "drwxr-xr-x   4 root root       4096 Jul 12 06:45 \u001b[01;34m9044\u001b[0m/\n",
            "drwxr-xr-x   4 root root       4096 Jul 12 06:45 \u001b[01;34m9073\u001b[0m/\n",
            "drwxr-xr-x   4 root root       4096 Jul 12 06:45 \u001b[01;34m9075\u001b[0m/\n",
            "drwxr-xr-x   4 root root       4096 Jul 12 06:45 \u001b[01;34m9076\u001b[0m/\n",
            "drwxr-xr-x   4 root root       4096 Jul 12 06:45 \u001b[01;34m9077\u001b[0m/\n",
            "drwxr-xr-x   4 root root       4096 Jul 12 06:45 \u001b[01;34m9078\u001b[0m/\n",
            "drwxr-xr-x   4 root root       4096 Jul 12 06:45 \u001b[01;34m9081\u001b[0m/\n",
            "drwxr-xr-x   4 root root       4096 Jul 12 06:45 \u001b[01;34m9083\u001b[0m/\n",
            "drwxr-xr-x   4 root root       4096 Jul 12 06:45 \u001b[01;34m9123\u001b[0m/\n",
            "drwxr-xr-x   4 root root       4096 Jul 12 06:45 \u001b[01;34m9124\u001b[0m/\n",
            "drwxr-xr-x   4 root root       4096 Jul 12 06:45 \u001b[01;34m9125\u001b[0m/\n",
            "drwxr-xr-x   4 root root       4096 Jul 12 06:45 \u001b[01;34m9126\u001b[0m/\n",
            "drwxr-xr-x   4 root root       4096 Jul 12 06:45 \u001b[01;34m9135\u001b[0m/\n",
            "drwxr-xr-x   4 root root       4096 Jul 12 06:45 \u001b[01;34m9173\u001b[0m/\n",
            "drwxr-xr-x   4 root root       4096 Jul 12 06:45 \u001b[01;34m9174\u001b[0m/\n",
            "drwxr-xr-x   4 root root       4096 Jul 12 06:45 \u001b[01;34m9175\u001b[0m/\n",
            "drwxr-xr-x   4 root root       4096 Jul 12 06:45 \u001b[01;34m9176\u001b[0m/\n",
            "drwxr-xr-x   4 root root       4096 Jul 12 06:45 \u001b[01;34m9177\u001b[0m/\n",
            "drwxr-xr-x   4 root root       4096 Jul 12 06:45 \u001b[01;34m9178\u001b[0m/\n",
            "drwxr-xr-x   4 root root       4096 Jul 12 06:45 \u001b[01;34m9181\u001b[0m/\n",
            "drwxr-xr-x   4 root root       4096 Jul 12 06:45 \u001b[01;34m9225\u001b[0m/\n",
            "drwxr-xr-x   4 root root       4096 Jul 12 06:45 \u001b[01;34m9226\u001b[0m/\n",
            "drwxr-xr-x   4 root root       4096 Jul 12 06:45 \u001b[01;34m9227\u001b[0m/\n",
            "drwxr-xr-x   4 root root       4096 Jul 12 06:45 \u001b[01;34m9228\u001b[0m/\n",
            "drwxr-xr-x   4 root root       4096 Jul 12 06:45 \u001b[01;34m9250\u001b[0m/\n",
            "drwxr-xr-x   4 root root       4096 Jul 12 06:45 \u001b[01;34m9254\u001b[0m/\n",
            "drwxr-xr-x   4 root root       4096 Jul 12 06:45 \u001b[01;34m9255\u001b[0m/\n",
            "drwxr-xr-x   4 root root       4096 Jul 12 06:45 \u001b[01;34m9256\u001b[0m/\n",
            "drwxr-xr-x   4 root root       4096 Jul 12 06:45 \u001b[01;34m9257\u001b[0m/\n",
            "drwxr-xr-x   4 root root       4096 Jul 12 06:45 \u001b[01;34m9258\u001b[0m/\n",
            "drwxr-xr-x   4 root root       4096 Jul 12 06:45 \u001b[01;34m9259\u001b[0m/\n",
            "drwxr-xr-x   4 root root       4096 Jul 12 06:45 \u001b[01;34m9260\u001b[0m/\n",
            "drwxr-xr-x   4 root root       4096 Jul 12 06:45 \u001b[01;34m9261\u001b[0m/\n",
            "drwxr-xr-x   4 root root       4096 Jul 12 06:45 \u001b[01;34m9262\u001b[0m/\n",
            "drwxr-xr-x   4 root root       4096 Jul 12 06:45 \u001b[01;34m9265\u001b[0m/\n",
            "drwxr-xr-x   4 root root       4096 Jul 12 06:45 \u001b[01;34m9266\u001b[0m/\n",
            "drwxr-xr-x   4 root root       4096 Jul 12 06:45 \u001b[01;34m9267\u001b[0m/\n",
            "drwxr-xr-x   4 root root       4096 Jul 12 06:45 \u001b[01;34m9290\u001b[0m/\n",
            "drwxr-xr-x   4 root root       4096 Jul 12 06:45 \u001b[01;34m9291\u001b[0m/\n",
            "drwxr-xr-x   4 root root       4096 Jul 12 06:45 \u001b[01;34m9319\u001b[0m/\n",
            "drwxr-xr-x   4 root root       4096 Jul 12 06:45 \u001b[01;34m9320\u001b[0m/\n",
            "drwxr-xr-x   4 root root       4096 Jul 12 06:45 \u001b[01;34m9321\u001b[0m/\n",
            "drwxr-xr-x   4 root root       4096 Jul 12 06:45 \u001b[01;34m9322\u001b[0m/\n",
            "drwxr-xr-x   4 root root       4096 Jul 12 06:45 \u001b[01;34m9323\u001b[0m/\n",
            "drwxr-xr-x   4 root root       4096 Jul 12 06:45 \u001b[01;34m9324\u001b[0m/\n",
            "drwxr-xr-x   4 root root       4096 Jul 12 06:45 \u001b[01;34m9325\u001b[0m/\n",
            "drwxr-xr-x   4 root root       4096 Jul 12 06:45 \u001b[01;34m9344\u001b[0m/\n",
            "drwxr-xr-x   4 root root       4096 Jul 12 06:45 \u001b[01;34m9345\u001b[0m/\n",
            "drwxr-xr-x   4 root root       4096 Jul 12 06:45 \u001b[01;34m9346\u001b[0m/\n",
            "drwxr-xr-x   4 root root       4096 Jul 12 06:45 \u001b[01;34m9347\u001b[0m/\n",
            "drwxr-xr-x   4 root root       4096 Jul 12 06:45 \u001b[01;34m9381\u001b[0m/\n",
            "drwxr-xr-x   4 root root       4096 Jul 12 06:45 \u001b[01;34m9382\u001b[0m/\n",
            "drwxr-xr-x   4 root root       4096 Jul 12 06:45 \u001b[01;34m9383\u001b[0m/\n",
            "drwxr-xr-x 281 root root      12288 Jul 12 06:46 \u001b[01;34mIDC_regular_ps50_idx5\u001b[0m/\n"
          ]
        }
      ]
    },
    {
      "cell_type": "code",
      "source": [
        "!ls dataset_split/train/0 | wc -l"
      ],
      "metadata": {
        "colab": {
          "base_uri": "https://localhost:8080/"
        },
        "id": "j5nDDG-PYsDE",
        "outputId": "44cd546e-22cb-4864-a3c3-27a19fc62445"
      },
      "execution_count": null,
      "outputs": [
        {
          "output_type": "stream",
          "name": "stdout",
          "text": [
            "ls: cannot access 'dataset_split/train/0': No such file or directory\n",
            "0\n"
          ]
        }
      ]
    },
    {
      "cell_type": "code",
      "source": [
        "import os, random, shutil, pathlib\n",
        "from tqdm import tqdm\n",
        "\n",
        "SRC = pathlib.Path(\"/content/\") # Updated SRC path\n",
        "DEST = pathlib.Path(\"dataset_split\")\n",
        "\n",
        "for split in (\"train\", \"val\", \"test\"):\n",
        "    for cls in (\"0\", \"1\"):\n",
        "        (DEST/split/cls).mkdir(parents=True, exist_ok=True)\n",
        "\n",
        "samples_per_class = {\"train\": 8000, \"val\": 1000, \"test\": 1000}\n",
        "\n",
        "for cls in (\"0\", \"1\"):\n",
        "    all_imgs = []\n",
        "    # Walk through the patient directories\n",
        "    for patient_dir in os.listdir(SRC):\n",
        "        patient_path = os.path.join(SRC, patient_dir)\n",
        "        if os.path.isdir(patient_path) and patient_dir.isdigit(): # Added check if patient_dir is a digit\n",
        "            class_path = os.path.join(patient_path, cls)\n",
        "            if os.path.isdir(class_path):\n",
        "                for file in os.listdir(class_path):\n",
        "                    if file.endswith(\".png\"):\n",
        "                        all_imgs.append(os.path.join(class_path, file))\n",
        "\n",
        "    print(f\"Found {len(all_imgs)} images for class {cls}\") # Debugging line\n",
        "\n",
        "    random.shuffle(all_imgs)\n",
        "    start = 0\n",
        "    for split in (\"train\", \"val\", \"test\"):\n",
        "        k = samples_per_class[split]\n",
        "        subset = all_imgs[start:start+k]\n",
        "        print(f\"Attempting to copy {len(subset)} images for {split}/{cls}\") # Debugging line\n",
        "        for p in tqdm(subset, desc=f\"Copy {split}/{cls}\"):\n",
        "            try:\n",
        "                shutil.copy(p, DEST/split/cls/os.path.basename(p))\n",
        "            except Exception as e:\n",
        "                print(f\"Error copying file {p}: {e}\") # Debugging line\n",
        "        start += k"
      ],
      "metadata": {
        "colab": {
          "base_uri": "https://localhost:8080/"
        },
        "id": "cTAhar8rZgMK",
        "outputId": "37130221-3f11-4023-ec9d-ccb9d425b3a9"
      },
      "execution_count": null,
      "outputs": [
        {
          "output_type": "stream",
          "name": "stdout",
          "text": [
            "Found 198738 images for class 0\n",
            "Attempting to copy 8000 images for train/0\n"
          ]
        },
        {
          "output_type": "stream",
          "name": "stderr",
          "text": [
            "Copy train/0: 100%|██████████| 8000/8000 [00:13<00:00, 587.72it/s]\n"
          ]
        },
        {
          "output_type": "stream",
          "name": "stdout",
          "text": [
            "Attempting to copy 1000 images for val/0\n"
          ]
        },
        {
          "output_type": "stream",
          "name": "stderr",
          "text": [
            "Copy val/0: 100%|██████████| 1000/1000 [00:01<00:00, 594.72it/s]\n"
          ]
        },
        {
          "output_type": "stream",
          "name": "stdout",
          "text": [
            "Attempting to copy 1000 images for test/0\n"
          ]
        },
        {
          "output_type": "stream",
          "name": "stderr",
          "text": [
            "Copy test/0: 100%|██████████| 1000/1000 [00:01<00:00, 574.30it/s]\n"
          ]
        },
        {
          "output_type": "stream",
          "name": "stdout",
          "text": [
            "Found 78786 images for class 1\n",
            "Attempting to copy 8000 images for train/1\n"
          ]
        },
        {
          "output_type": "stream",
          "name": "stderr",
          "text": [
            "Copy train/1: 100%|██████████| 8000/8000 [00:13<00:00, 612.86it/s]\n"
          ]
        },
        {
          "output_type": "stream",
          "name": "stdout",
          "text": [
            "Attempting to copy 1000 images for val/1\n"
          ]
        },
        {
          "output_type": "stream",
          "name": "stderr",
          "text": [
            "Copy val/1: 100%|██████████| 1000/1000 [00:01<00:00, 719.02it/s]\n"
          ]
        },
        {
          "output_type": "stream",
          "name": "stdout",
          "text": [
            "Attempting to copy 1000 images for test/1\n"
          ]
        },
        {
          "output_type": "stream",
          "name": "stderr",
          "text": [
            "Copy test/1: 100%|██████████| 1000/1000 [00:01<00:00, 669.47it/s]\n"
          ]
        }
      ]
    },
    {
      "cell_type": "code",
      "source": [
        "!ls dataset_split/train/0 | wc -l"
      ],
      "metadata": {
        "colab": {
          "base_uri": "https://localhost:8080/"
        },
        "id": "y9iu4XD0Z165",
        "outputId": "29ac5409-0a2a-4403-88e4-8a69cb1a65bf"
      },
      "execution_count": null,
      "outputs": [
        {
          "output_type": "stream",
          "name": "stdout",
          "text": [
            "8000\n"
          ]
        }
      ]
    },
    {
      "cell_type": "markdown",
      "source": [
        "2. Load and  Preprocess the Data\n",
        "\n",
        "The data source is the \"breast-histopathology-images dataset\" from Kaggle (https://www.kaggle.com/datasets/paultimothymooney/breast-histopathology-images). The original image size is 50x50.\n",
        "\n",
        "\n"
      ],
      "metadata": {
        "id": "f_DG1ux2Z7c5"
      }
    },
    {
      "cell_type": "code",
      "source": [
        "import tensorflow as tf\n",
        "import pathlib\n",
        "\n",
        "DEST = pathlib.Path(\"dataset_split\") # Define DEST as it's used in the ImageDataGenerator code\n",
        "\n",
        "IMG_SIZE = (50, 50)\n",
        "BATCH = 64 # Increased batch size as suggested in the user's code\n",
        "\n",
        "train_gen = tf.keras.preprocessing.image.ImageDataGenerator(\n",
        "    rescale=1./255,\n",
        "    horizontal_flip=True,\n",
        "    rotation_range=10,\n",
        "    validation_split=0.0)\n",
        "\n",
        "train_ds = train_gen.flow_from_directory(\n",
        "    DEST/\"train\", target_size=IMG_SIZE, batch_size=BATCH, class_mode='binary')\n",
        "\n",
        "val_ds = tf.keras.preprocessing.image.ImageDataGenerator(\n",
        "    rescale=1./255).flow_from_directory(\n",
        "    DEST/\"val\", target_size=IMG_SIZE, batch_size=BATCH, class_mode='binary')\n",
        "\n",
        "test_ds = tf.keras.preprocessing.image.ImageDataGenerator(\n",
        "    rescale=1./255).flow_from_directory(\n",
        "    DEST/\"test\", target_size=IMG_SIZE, batch_size=BATCH, class_mode='binary', shuffle=False)\n",
        "\n",
        "print(\"Training dataset created with data augmentation.\")\n",
        "print(\"Validation dataset created.\")\n",
        "print(\"Test dataset created.\")"
      ],
      "metadata": {
        "colab": {
          "base_uri": "https://localhost:8080/"
        },
        "id": "fGCPRWS2aGTK",
        "outputId": "2d680c4e-a5e9-464a-f258-7b09ad74caba"
      },
      "execution_count": null,
      "outputs": [
        {
          "output_type": "stream",
          "name": "stdout",
          "text": [
            "Found 16000 images belonging to 2 classes.\n",
            "Found 2000 images belonging to 2 classes.\n",
            "Found 2000 images belonging to 2 classes.\n",
            "Training dataset created with data augmentation.\n",
            "Validation dataset created.\n",
            "Test dataset created.\n"
          ]
        }
      ]
    },
    {
      "cell_type": "markdown",
      "source": [
        "3. Define and Compile the Model"
      ],
      "metadata": {
        "id": "HL11Fd0yai4E"
      }
    },
    {
      "cell_type": "code",
      "source": [
        "from tensorflow.keras import layers, models\n",
        "\n",
        "IMG_SIZE = (50, 50) # Define IMG_SIZE here as it's used in the model definition\n",
        "\n",
        "model = models.Sequential([\n",
        "    layers.Input(shape=(*IMG_SIZE, 3)),\n",
        "    layers.Conv2D(32, 3, activation='relu'),\n",
        "    layers.MaxPooling2D(),\n",
        "    layers.Conv2D(64, 3, activation='relu'),\n",
        "    layers.MaxPooling2D(),\n",
        "    layers.Conv2D(128, 3, activation='relu'),\n",
        "    layers.MaxPooling2D(),\n",
        "    layers.Flatten(),\n",
        "    layers.Dense(128, activation='relu'),\n",
        "    layers.Dropout(0.5),\n",
        "    layers.Dense(1, activation='sigmoid')\n",
        "])\n",
        "\n",
        "model.compile(optimizer='adam',\n",
        "              loss='binary_crossentropy',\n",
        "              metrics=['accuracy'])\n",
        "\n",
        "model.summary()"
      ],
      "metadata": {
        "colab": {
          "base_uri": "https://localhost:8080/",
          "height": 469
        },
        "id": "j-jkroNKakAL",
        "outputId": "cab93d52-e05d-49a5-e5d0-8ffcc667d51c"
      },
      "execution_count": null,
      "outputs": [
        {
          "output_type": "display_data",
          "data": {
            "text/plain": [
              "\u001b[1mModel: \"sequential\"\u001b[0m\n"
            ],
            "text/html": [
              "<pre style=\"white-space:pre;overflow-x:auto;line-height:normal;font-family:Menlo,'DejaVu Sans Mono',consolas,'Courier New',monospace\"><span style=\"font-weight: bold\">Model: \"sequential\"</span>\n",
              "</pre>\n"
            ]
          },
          "metadata": {}
        },
        {
          "output_type": "display_data",
          "data": {
            "text/plain": [
              "┏━━━━━━━━━━━━━━━━━━━━━━━━━━━━━━━━━┳━━━━━━━━━━━━━━━━━━━━━━━━┳━━━━━━━━━━━━━━━┓\n",
              "┃\u001b[1m \u001b[0m\u001b[1mLayer (type)                   \u001b[0m\u001b[1m \u001b[0m┃\u001b[1m \u001b[0m\u001b[1mOutput Shape          \u001b[0m\u001b[1m \u001b[0m┃\u001b[1m \u001b[0m\u001b[1m      Param #\u001b[0m\u001b[1m \u001b[0m┃\n",
              "┡━━━━━━━━━━━━━━━━━━━━━━━━━━━━━━━━━╇━━━━━━━━━━━━━━━━━━━━━━━━╇━━━━━━━━━━━━━━━┩\n",
              "│ conv2d (\u001b[38;5;33mConv2D\u001b[0m)                 │ (\u001b[38;5;45mNone\u001b[0m, \u001b[38;5;34m48\u001b[0m, \u001b[38;5;34m48\u001b[0m, \u001b[38;5;34m32\u001b[0m)     │           \u001b[38;5;34m896\u001b[0m │\n",
              "├─────────────────────────────────┼────────────────────────┼───────────────┤\n",
              "│ max_pooling2d (\u001b[38;5;33mMaxPooling2D\u001b[0m)    │ (\u001b[38;5;45mNone\u001b[0m, \u001b[38;5;34m24\u001b[0m, \u001b[38;5;34m24\u001b[0m, \u001b[38;5;34m32\u001b[0m)     │             \u001b[38;5;34m0\u001b[0m │\n",
              "├─────────────────────────────────┼────────────────────────┼───────────────┤\n",
              "│ conv2d_1 (\u001b[38;5;33mConv2D\u001b[0m)               │ (\u001b[38;5;45mNone\u001b[0m, \u001b[38;5;34m22\u001b[0m, \u001b[38;5;34m22\u001b[0m, \u001b[38;5;34m64\u001b[0m)     │        \u001b[38;5;34m18,496\u001b[0m │\n",
              "├─────────────────────────────────┼────────────────────────┼───────────────┤\n",
              "│ max_pooling2d_1 (\u001b[38;5;33mMaxPooling2D\u001b[0m)  │ (\u001b[38;5;45mNone\u001b[0m, \u001b[38;5;34m11\u001b[0m, \u001b[38;5;34m11\u001b[0m, \u001b[38;5;34m64\u001b[0m)     │             \u001b[38;5;34m0\u001b[0m │\n",
              "├─────────────────────────────────┼────────────────────────┼───────────────┤\n",
              "│ conv2d_2 (\u001b[38;5;33mConv2D\u001b[0m)               │ (\u001b[38;5;45mNone\u001b[0m, \u001b[38;5;34m9\u001b[0m, \u001b[38;5;34m9\u001b[0m, \u001b[38;5;34m128\u001b[0m)      │        \u001b[38;5;34m73,856\u001b[0m │\n",
              "├─────────────────────────────────┼────────────────────────┼───────────────┤\n",
              "│ max_pooling2d_2 (\u001b[38;5;33mMaxPooling2D\u001b[0m)  │ (\u001b[38;5;45mNone\u001b[0m, \u001b[38;5;34m4\u001b[0m, \u001b[38;5;34m4\u001b[0m, \u001b[38;5;34m128\u001b[0m)      │             \u001b[38;5;34m0\u001b[0m │\n",
              "├─────────────────────────────────┼────────────────────────┼───────────────┤\n",
              "│ flatten (\u001b[38;5;33mFlatten\u001b[0m)               │ (\u001b[38;5;45mNone\u001b[0m, \u001b[38;5;34m2048\u001b[0m)           │             \u001b[38;5;34m0\u001b[0m │\n",
              "├─────────────────────────────────┼────────────────────────┼───────────────┤\n",
              "│ dense (\u001b[38;5;33mDense\u001b[0m)                   │ (\u001b[38;5;45mNone\u001b[0m, \u001b[38;5;34m128\u001b[0m)            │       \u001b[38;5;34m262,272\u001b[0m │\n",
              "├─────────────────────────────────┼────────────────────────┼───────────────┤\n",
              "│ dropout (\u001b[38;5;33mDropout\u001b[0m)               │ (\u001b[38;5;45mNone\u001b[0m, \u001b[38;5;34m128\u001b[0m)            │             \u001b[38;5;34m0\u001b[0m │\n",
              "├─────────────────────────────────┼────────────────────────┼───────────────┤\n",
              "│ dense_1 (\u001b[38;5;33mDense\u001b[0m)                 │ (\u001b[38;5;45mNone\u001b[0m, \u001b[38;5;34m1\u001b[0m)              │           \u001b[38;5;34m129\u001b[0m │\n",
              "└─────────────────────────────────┴────────────────────────┴───────────────┘\n"
            ],
            "text/html": [
              "<pre style=\"white-space:pre;overflow-x:auto;line-height:normal;font-family:Menlo,'DejaVu Sans Mono',consolas,'Courier New',monospace\">┏━━━━━━━━━━━━━━━━━━━━━━━━━━━━━━━━━┳━━━━━━━━━━━━━━━━━━━━━━━━┳━━━━━━━━━━━━━━━┓\n",
              "┃<span style=\"font-weight: bold\"> Layer (type)                    </span>┃<span style=\"font-weight: bold\"> Output Shape           </span>┃<span style=\"font-weight: bold\">       Param # </span>┃\n",
              "┡━━━━━━━━━━━━━━━━━━━━━━━━━━━━━━━━━╇━━━━━━━━━━━━━━━━━━━━━━━━╇━━━━━━━━━━━━━━━┩\n",
              "│ conv2d (<span style=\"color: #0087ff; text-decoration-color: #0087ff\">Conv2D</span>)                 │ (<span style=\"color: #00d7ff; text-decoration-color: #00d7ff\">None</span>, <span style=\"color: #00af00; text-decoration-color: #00af00\">48</span>, <span style=\"color: #00af00; text-decoration-color: #00af00\">48</span>, <span style=\"color: #00af00; text-decoration-color: #00af00\">32</span>)     │           <span style=\"color: #00af00; text-decoration-color: #00af00\">896</span> │\n",
              "├─────────────────────────────────┼────────────────────────┼───────────────┤\n",
              "│ max_pooling2d (<span style=\"color: #0087ff; text-decoration-color: #0087ff\">MaxPooling2D</span>)    │ (<span style=\"color: #00d7ff; text-decoration-color: #00d7ff\">None</span>, <span style=\"color: #00af00; text-decoration-color: #00af00\">24</span>, <span style=\"color: #00af00; text-decoration-color: #00af00\">24</span>, <span style=\"color: #00af00; text-decoration-color: #00af00\">32</span>)     │             <span style=\"color: #00af00; text-decoration-color: #00af00\">0</span> │\n",
              "├─────────────────────────────────┼────────────────────────┼───────────────┤\n",
              "│ conv2d_1 (<span style=\"color: #0087ff; text-decoration-color: #0087ff\">Conv2D</span>)               │ (<span style=\"color: #00d7ff; text-decoration-color: #00d7ff\">None</span>, <span style=\"color: #00af00; text-decoration-color: #00af00\">22</span>, <span style=\"color: #00af00; text-decoration-color: #00af00\">22</span>, <span style=\"color: #00af00; text-decoration-color: #00af00\">64</span>)     │        <span style=\"color: #00af00; text-decoration-color: #00af00\">18,496</span> │\n",
              "├─────────────────────────────────┼────────────────────────┼───────────────┤\n",
              "│ max_pooling2d_1 (<span style=\"color: #0087ff; text-decoration-color: #0087ff\">MaxPooling2D</span>)  │ (<span style=\"color: #00d7ff; text-decoration-color: #00d7ff\">None</span>, <span style=\"color: #00af00; text-decoration-color: #00af00\">11</span>, <span style=\"color: #00af00; text-decoration-color: #00af00\">11</span>, <span style=\"color: #00af00; text-decoration-color: #00af00\">64</span>)     │             <span style=\"color: #00af00; text-decoration-color: #00af00\">0</span> │\n",
              "├─────────────────────────────────┼────────────────────────┼───────────────┤\n",
              "│ conv2d_2 (<span style=\"color: #0087ff; text-decoration-color: #0087ff\">Conv2D</span>)               │ (<span style=\"color: #00d7ff; text-decoration-color: #00d7ff\">None</span>, <span style=\"color: #00af00; text-decoration-color: #00af00\">9</span>, <span style=\"color: #00af00; text-decoration-color: #00af00\">9</span>, <span style=\"color: #00af00; text-decoration-color: #00af00\">128</span>)      │        <span style=\"color: #00af00; text-decoration-color: #00af00\">73,856</span> │\n",
              "├─────────────────────────────────┼────────────────────────┼───────────────┤\n",
              "│ max_pooling2d_2 (<span style=\"color: #0087ff; text-decoration-color: #0087ff\">MaxPooling2D</span>)  │ (<span style=\"color: #00d7ff; text-decoration-color: #00d7ff\">None</span>, <span style=\"color: #00af00; text-decoration-color: #00af00\">4</span>, <span style=\"color: #00af00; text-decoration-color: #00af00\">4</span>, <span style=\"color: #00af00; text-decoration-color: #00af00\">128</span>)      │             <span style=\"color: #00af00; text-decoration-color: #00af00\">0</span> │\n",
              "├─────────────────────────────────┼────────────────────────┼───────────────┤\n",
              "│ flatten (<span style=\"color: #0087ff; text-decoration-color: #0087ff\">Flatten</span>)               │ (<span style=\"color: #00d7ff; text-decoration-color: #00d7ff\">None</span>, <span style=\"color: #00af00; text-decoration-color: #00af00\">2048</span>)           │             <span style=\"color: #00af00; text-decoration-color: #00af00\">0</span> │\n",
              "├─────────────────────────────────┼────────────────────────┼───────────────┤\n",
              "│ dense (<span style=\"color: #0087ff; text-decoration-color: #0087ff\">Dense</span>)                   │ (<span style=\"color: #00d7ff; text-decoration-color: #00d7ff\">None</span>, <span style=\"color: #00af00; text-decoration-color: #00af00\">128</span>)            │       <span style=\"color: #00af00; text-decoration-color: #00af00\">262,272</span> │\n",
              "├─────────────────────────────────┼────────────────────────┼───────────────┤\n",
              "│ dropout (<span style=\"color: #0087ff; text-decoration-color: #0087ff\">Dropout</span>)               │ (<span style=\"color: #00d7ff; text-decoration-color: #00d7ff\">None</span>, <span style=\"color: #00af00; text-decoration-color: #00af00\">128</span>)            │             <span style=\"color: #00af00; text-decoration-color: #00af00\">0</span> │\n",
              "├─────────────────────────────────┼────────────────────────┼───────────────┤\n",
              "│ dense_1 (<span style=\"color: #0087ff; text-decoration-color: #0087ff\">Dense</span>)                 │ (<span style=\"color: #00d7ff; text-decoration-color: #00d7ff\">None</span>, <span style=\"color: #00af00; text-decoration-color: #00af00\">1</span>)              │           <span style=\"color: #00af00; text-decoration-color: #00af00\">129</span> │\n",
              "└─────────────────────────────────┴────────────────────────┴───────────────┘\n",
              "</pre>\n"
            ]
          },
          "metadata": {}
        },
        {
          "output_type": "display_data",
          "data": {
            "text/plain": [
              "\u001b[1m Total params: \u001b[0m\u001b[38;5;34m355,649\u001b[0m (1.36 MB)\n"
            ],
            "text/html": [
              "<pre style=\"white-space:pre;overflow-x:auto;line-height:normal;font-family:Menlo,'DejaVu Sans Mono',consolas,'Courier New',monospace\"><span style=\"font-weight: bold\"> Total params: </span><span style=\"color: #00af00; text-decoration-color: #00af00\">355,649</span> (1.36 MB)\n",
              "</pre>\n"
            ]
          },
          "metadata": {}
        },
        {
          "output_type": "display_data",
          "data": {
            "text/plain": [
              "\u001b[1m Trainable params: \u001b[0m\u001b[38;5;34m355,649\u001b[0m (1.36 MB)\n"
            ],
            "text/html": [
              "<pre style=\"white-space:pre;overflow-x:auto;line-height:normal;font-family:Menlo,'DejaVu Sans Mono',consolas,'Courier New',monospace\"><span style=\"font-weight: bold\"> Trainable params: </span><span style=\"color: #00af00; text-decoration-color: #00af00\">355,649</span> (1.36 MB)\n",
              "</pre>\n"
            ]
          },
          "metadata": {}
        },
        {
          "output_type": "display_data",
          "data": {
            "text/plain": [
              "\u001b[1m Non-trainable params: \u001b[0m\u001b[38;5;34m0\u001b[0m (0.00 B)\n"
            ],
            "text/html": [
              "<pre style=\"white-space:pre;overflow-x:auto;line-height:normal;font-family:Menlo,'DejaVu Sans Mono',consolas,'Courier New',monospace\"><span style=\"font-weight: bold\"> Non-trainable params: </span><span style=\"color: #00af00; text-decoration-color: #00af00\">0</span> (0.00 B)\n",
              "</pre>\n"
            ]
          },
          "metadata": {}
        }
      ]
    },
    {
      "cell_type": "markdown",
      "source": [
        "4. Train the Model"
      ],
      "metadata": {
        "id": "q3hVwVWYa851"
      }
    },
    {
      "cell_type": "code",
      "source": [
        "EPOCHS = 20 # You can adjust the number of epochs\n",
        "\n",
        "history = model.fit(\n",
        "    train_ds,\n",
        "    validation_data=val_ds,\n",
        "    epochs=EPOCHS\n",
        ")\n",
        "\n",
        "print(\"Model training complete.\")"
      ],
      "metadata": {
        "colab": {
          "base_uri": "https://localhost:8080/"
        },
        "id": "UBio0vcAa-Nj",
        "outputId": "7f795d49-a262-491d-97a1-bb5b51481ce4"
      },
      "execution_count": null,
      "outputs": [
        {
          "output_type": "stream",
          "name": "stderr",
          "text": [
            "/usr/local/lib/python3.11/dist-packages/keras/src/trainers/data_adapters/py_dataset_adapter.py:121: UserWarning: Your `PyDataset` class should call `super().__init__(**kwargs)` in its constructor. `**kwargs` can include `workers`, `use_multiprocessing`, `max_queue_size`. Do not pass these arguments to `fit()`, as they will be ignored.\n",
            "  self._warn_if_super_not_called()\n"
          ]
        },
        {
          "output_type": "stream",
          "name": "stdout",
          "text": [
            "Epoch 1/20\n",
            "\u001b[1m250/250\u001b[0m \u001b[32m━━━━━━━━━━━━━━━━━━━━\u001b[0m\u001b[37m\u001b[0m \u001b[1m0s\u001b[0m 334ms/step - accuracy: 0.6582 - loss: 0.6090"
          ]
        },
        {
          "output_type": "stream",
          "name": "stderr",
          "text": [
            "/usr/local/lib/python3.11/dist-packages/keras/src/trainers/data_adapters/py_dataset_adapter.py:121: UserWarning: Your `PyDataset` class should call `super().__init__(**kwargs)` in its constructor. `**kwargs` can include `workers`, `use_multiprocessing`, `max_queue_size`. Do not pass these arguments to `fit()`, as they will be ignored.\n",
            "  self._warn_if_super_not_called()\n"
          ]
        },
        {
          "output_type": "stream",
          "name": "stdout",
          "text": [
            "\b\b\b\b\b\b\b\b\b\b\b\b\b\b\b\b\b\b\b\b\b\b\b\b\b\b\b\b\b\b\b\b\b\b\b\b\b\b\b\b\b\b\b\b\b\b\b\b\b\b\b\b\b\b\b\b\b\b\b\b\b\b\b\b\b\b\b\b\b\b\b\b\b\b\b\b\r\u001b[1m250/250\u001b[0m \u001b[32m━━━━━━━━━━━━━━━━━━━━\u001b[0m\u001b[37m\u001b[0m \u001b[1m90s\u001b[0m 349ms/step - accuracy: 0.6584 - loss: 0.6089 - val_accuracy: 0.7935 - val_loss: 0.4710\n",
            "Epoch 2/20\n",
            "\u001b[1m250/250\u001b[0m \u001b[32m━━━━━━━━━━━━━━━━━━━━\u001b[0m\u001b[37m\u001b[0m \u001b[1m85s\u001b[0m 340ms/step - accuracy: 0.7528 - loss: 0.5345 - val_accuracy: 0.7870 - val_loss: 0.4672\n",
            "Epoch 3/20\n",
            "\u001b[1m250/250\u001b[0m \u001b[32m━━━━━━━━━━━━━━━━━━━━\u001b[0m\u001b[37m\u001b[0m \u001b[1m85s\u001b[0m 338ms/step - accuracy: 0.7824 - loss: 0.4852 - val_accuracy: 0.7935 - val_loss: 0.4623\n",
            "Epoch 4/20\n",
            "\u001b[1m250/250\u001b[0m \u001b[32m━━━━━━━━━━━━━━━━━━━━\u001b[0m\u001b[37m\u001b[0m \u001b[1m86s\u001b[0m 342ms/step - accuracy: 0.7870 - loss: 0.4701 - val_accuracy: 0.8075 - val_loss: 0.4272\n",
            "Epoch 5/20\n",
            "\u001b[1m250/250\u001b[0m \u001b[32m━━━━━━━━━━━━━━━━━━━━\u001b[0m\u001b[37m\u001b[0m \u001b[1m84s\u001b[0m 337ms/step - accuracy: 0.7911 - loss: 0.4646 - val_accuracy: 0.8050 - val_loss: 0.4218\n",
            "Epoch 6/20\n",
            "\u001b[1m250/250\u001b[0m \u001b[32m━━━━━━━━━━━━━━━━━━━━\u001b[0m\u001b[37m\u001b[0m \u001b[1m142s\u001b[0m 339ms/step - accuracy: 0.7983 - loss: 0.4527 - val_accuracy: 0.8115 - val_loss: 0.4082\n",
            "Epoch 7/20\n",
            "\u001b[1m250/250\u001b[0m \u001b[32m━━━━━━━━━━━━━━━━━━━━\u001b[0m\u001b[37m\u001b[0m \u001b[1m87s\u001b[0m 348ms/step - accuracy: 0.8009 - loss: 0.4490 - val_accuracy: 0.8040 - val_loss: 0.4369\n",
            "Epoch 8/20\n",
            "\u001b[1m250/250\u001b[0m \u001b[32m━━━━━━━━━━━━━━━━━━━━\u001b[0m\u001b[37m\u001b[0m \u001b[1m87s\u001b[0m 349ms/step - accuracy: 0.7972 - loss: 0.4530 - val_accuracy: 0.8075 - val_loss: 0.4081\n",
            "Epoch 9/20\n",
            "\u001b[1m250/250\u001b[0m \u001b[32m━━━━━━━━━━━━━━━━━━━━\u001b[0m\u001b[37m\u001b[0m \u001b[1m85s\u001b[0m 339ms/step - accuracy: 0.8088 - loss: 0.4318 - val_accuracy: 0.8095 - val_loss: 0.4150\n",
            "Epoch 10/20\n",
            "\u001b[1m250/250\u001b[0m \u001b[32m━━━━━━━━━━━━━━━━━━━━\u001b[0m\u001b[37m\u001b[0m \u001b[1m82s\u001b[0m 326ms/step - accuracy: 0.8103 - loss: 0.4329 - val_accuracy: 0.8040 - val_loss: 0.4356\n",
            "Epoch 11/20\n",
            "\u001b[1m250/250\u001b[0m \u001b[32m━━━━━━━━━━━━━━━━━━━━\u001b[0m\u001b[37m\u001b[0m \u001b[1m84s\u001b[0m 336ms/step - accuracy: 0.8074 - loss: 0.4380 - val_accuracy: 0.8150 - val_loss: 0.4048\n",
            "Epoch 12/20\n",
            "\u001b[1m250/250\u001b[0m \u001b[32m━━━━━━━━━━━━━━━━━━━━\u001b[0m\u001b[37m\u001b[0m \u001b[1m83s\u001b[0m 330ms/step - accuracy: 0.8140 - loss: 0.4240 - val_accuracy: 0.8220 - val_loss: 0.3985\n",
            "Epoch 13/20\n",
            "\u001b[1m250/250\u001b[0m \u001b[32m━━━━━━━━━━━━━━━━━━━━\u001b[0m\u001b[37m\u001b[0m \u001b[1m85s\u001b[0m 341ms/step - accuracy: 0.8153 - loss: 0.4244 - val_accuracy: 0.7970 - val_loss: 0.4486\n",
            "Epoch 14/20\n",
            "\u001b[1m250/250\u001b[0m \u001b[32m━━━━━━━━━━━━━━━━━━━━\u001b[0m\u001b[37m\u001b[0m \u001b[1m92s\u001b[0m 366ms/step - accuracy: 0.8197 - loss: 0.4176 - val_accuracy: 0.8260 - val_loss: 0.3913\n",
            "Epoch 15/20\n",
            "\u001b[1m250/250\u001b[0m \u001b[32m━━━━━━━━━━━━━━━━━━━━\u001b[0m\u001b[37m\u001b[0m \u001b[1m134s\u001b[0m 332ms/step - accuracy: 0.8228 - loss: 0.4127 - val_accuracy: 0.8225 - val_loss: 0.3969\n",
            "Epoch 16/20\n",
            "\u001b[1m250/250\u001b[0m \u001b[32m━━━━━━━━━━━━━━━━━━━━\u001b[0m\u001b[37m\u001b[0m \u001b[1m83s\u001b[0m 331ms/step - accuracy: 0.8324 - loss: 0.3988 - val_accuracy: 0.8365 - val_loss: 0.3692\n",
            "Epoch 17/20\n",
            "\u001b[1m250/250\u001b[0m \u001b[32m━━━━━━━━━━━━━━━━━━━━\u001b[0m\u001b[37m\u001b[0m \u001b[1m142s\u001b[0m 331ms/step - accuracy: 0.8324 - loss: 0.3949 - val_accuracy: 0.8350 - val_loss: 0.3737\n",
            "Epoch 18/20\n",
            "\u001b[1m250/250\u001b[0m \u001b[32m━━━━━━━━━━━━━━━━━━━━\u001b[0m\u001b[37m\u001b[0m \u001b[1m83s\u001b[0m 331ms/step - accuracy: 0.8342 - loss: 0.3948 - val_accuracy: 0.8300 - val_loss: 0.3914\n",
            "Epoch 19/20\n",
            "\u001b[1m250/250\u001b[0m \u001b[32m━━━━━━━━━━━━━━━━━━━━\u001b[0m\u001b[37m\u001b[0m \u001b[1m81s\u001b[0m 325ms/step - accuracy: 0.8324 - loss: 0.3986 - val_accuracy: 0.8440 - val_loss: 0.3676\n",
            "Epoch 20/20\n",
            "\u001b[1m250/250\u001b[0m \u001b[32m━━━━━━━━━━━━━━━━━━━━\u001b[0m\u001b[37m\u001b[0m \u001b[1m90s\u001b[0m 356ms/step - accuracy: 0.8316 - loss: 0.3879 - val_accuracy: 0.8240 - val_loss: 0.4094\n",
            "Model training complete.\n"
          ]
        }
      ]
    },
    {
      "cell_type": "code",
      "source": [
        "test_loss, test_acc = model.evaluate(test_ds)\n",
        "print(f\"Test accuracy: {test_acc:.3f}\")"
      ],
      "metadata": {
        "colab": {
          "base_uri": "https://localhost:8080/"
        },
        "id": "Z87oQPYOiZRV",
        "outputId": "11dd6848-efcb-41aa-dde1-65fecde925f5"
      },
      "execution_count": null,
      "outputs": [
        {
          "output_type": "stream",
          "name": "stderr",
          "text": [
            "/usr/local/lib/python3.11/dist-packages/keras/src/trainers/data_adapters/py_dataset_adapter.py:121: UserWarning: Your `PyDataset` class should call `super().__init__(**kwargs)` in its constructor. `**kwargs` can include `workers`, `use_multiprocessing`, `max_queue_size`. Do not pass these arguments to `fit()`, as they will be ignored.\n",
            "  self._warn_if_super_not_called()\n"
          ]
        },
        {
          "output_type": "stream",
          "name": "stdout",
          "text": [
            "\u001b[1m32/32\u001b[0m \u001b[32m━━━━━━━━━━━━━━━━━━━━\u001b[0m\u001b[37m\u001b[0m \u001b[1m4s\u001b[0m 134ms/step - accuracy: 0.8802 - loss: 0.2887\n",
            "Test accuracy: 0.822\n"
          ]
        }
      ]
    },
    {
      "cell_type": "markdown",
      "source": [
        "6. Interpret Results with Additional Metrics"
      ],
      "metadata": {
        "id": "rF5VBsIclwAR"
      }
    },
    {
      "cell_type": "code",
      "source": [
        "import sklearn.metrics as skm, matplotlib.pyplot as plt\n",
        "import numpy as np # Import numpy for array manipulation\n",
        "\n",
        "# Get the true labels from the test dataset\n",
        "y_true = test_ds.classes\n",
        "\n",
        "# Get the predicted probabilities from the model\n",
        "y_pred_prob = model.predict(test_ds).ravel()\n",
        "\n",
        "# Convert predicted probabilities to binary predictions using a threshold (e.g., 0.5)\n",
        "y_pred = (y_pred_prob > 0.5).astype(int) # Convert boolean to integer (0 or 1)\n",
        "\n",
        "# Confusion Matrix\n",
        "cm = skm.confusion_matrix(y_true, y_pred)\n",
        "disp = skm.ConfusionMatrixDisplay(cm, display_labels=['Benign','IDC'])\n",
        "disp.plot()\n",
        "plt.title('Confusion Matrix')\n",
        "plt.show()\n",
        "\n",
        "# ROC Curve\n",
        "fpr, tpr, _ = skm.roc_curve(y_true, y_pred_prob) # Use probabilities for ROC curve\n",
        "plt.plot(fpr, tpr); plt.xlabel('False Positive Rate'); plt.ylabel('True Positive Rate'); plt.title('ROC Curve'); plt.show()\n",
        "\n",
        "# AUC Score\n",
        "print(\"AUC:\", skm.roc_auc_score(y_true, y_pred_prob)) # Use probabilities for AUC score"
      ],
      "metadata": {
        "colab": {
          "base_uri": "https://localhost:8080/",
          "height": 962
        },
        "id": "NBdh8P_RlxhI",
        "outputId": "fb1f4c9a-4940-4689-afc0-fef97f04357d"
      },
      "execution_count": null,
      "outputs": [
        {
          "output_type": "stream",
          "name": "stdout",
          "text": [
            "\u001b[1m32/32\u001b[0m \u001b[32m━━━━━━━━━━━━━━━━━━━━\u001b[0m\u001b[37m\u001b[0m \u001b[1m6s\u001b[0m 163ms/step\n"
          ]
        },
        {
          "output_type": "display_data",
          "data": {
            "text/plain": [
              "<Figure size 640x480 with 2 Axes>"
            ],
            "image/png": "[encoded data removed]"
          },
          "metadata": {}
        },
        {
          "output_type": "display_data",
          "data": {
            "text/plain": [
              "<Figure size 640x480 with 1 Axes>"
            ],
            "image/png": "[encoded data removed]"
          },
          "metadata": {}
        },
        {
          "output_type": "stream",
          "name": "stdout",
          "text": [
            "AUC: 0.9162229999999999\n"
          ]
        }
      ]
    },
    {
      "cell_type": "markdown",
      "source": [
        "7. Save the Model"
      ],
      "metadata": {
        "id": "42LMR-Ktm8NR"
      }
    },
    {
      "cell_type": "code",
      "source": [
        "import os\n",
        "\n",
        "# Define the directory to save the model\n",
        "model_save_dir = \"saved_model\"\n",
        "os.makedirs(model_save_dir, exist_ok=True)\n",
        "\n",
        "# Save the model\n",
        "model.export(model_save_dir)\n",
        "\n",
        "print(f\"Model saved to: {model_save_dir}\")"
      ],
      "metadata": {
        "colab": {
          "base_uri": "https://localhost:8080/"
        },
        "id": "1Am2pH89mQ3h",
        "outputId": "3806ae38-2c29-41ba-f93a-cd74d5eb8a7c"
      },
      "execution_count": null,
      "outputs": [
        {
          "output_type": "stream",
          "name": "stdout",
          "text": [
            "Saved artifact at 'saved_model'. The following endpoints are available:\n",
            "\n",
            "* Endpoint 'serve'\n",
            "  args_0 (POSITIONAL_ONLY): TensorSpec(shape=(None, 50, 50, 3), dtype=tf.float32, name='keras_tensor')\n",
            "Output Type:\n",
            "  TensorSpec(shape=(None, 1), dtype=tf.float32, name=None)\n",
            "Captures:\n",
            "  135057055964368: TensorSpec(shape=(), dtype=tf.resource, name=None)\n",
            "  135057055966096: TensorSpec(shape=(), dtype=tf.resource, name=None)\n",
            "  135057055965712: TensorSpec(shape=(), dtype=tf.resource, name=None)\n",
            "  135057055968976: TensorSpec(shape=(), dtype=tf.resource, name=None)\n",
            "  135057055968208: TensorSpec(shape=(), dtype=tf.resource, name=None)\n",
            "  135057055969936: TensorSpec(shape=(), dtype=tf.resource, name=None)\n",
            "  135057055969360: TensorSpec(shape=(), dtype=tf.resource, name=None)\n",
            "  135057055970320: TensorSpec(shape=(), dtype=tf.resource, name=None)\n",
            "  135057055970704: TensorSpec(shape=(), dtype=tf.resource, name=None)\n",
            "  135057055972240: TensorSpec(shape=(), dtype=tf.resource, name=None)\n",
            "Model saved to: saved_model\n"
          ]
        }
      ]
    },
    {
      "cell_type": "markdown",
      "source": [
        "8. Make Predictions"
      ],
      "metadata": {
        "id": "VflJaXWpnNM5"
      }
    },
    {
      "cell_type": "code",
      "source": [
        "import tensorflow as tf\n",
        "import numpy as np\n",
        "\n",
        "# Load the saved model\n",
        "loaded_model = tf.saved_model.load(\"saved_model\")\n",
        "\n",
        "# Get the concrete function for inference\n",
        "infer = loaded_model.signatures[\"serving_default\"]\n",
        "\n",
        "# Get a batch of images and labels from the test dataset\n",
        "# Iterate over the test_ds DirectoryIterator to get a batch\n",
        "for images, labels in test_ds:\n",
        "    # Make predictions\n",
        "    # The input to the serving_default signature expects a tensor\n",
        "    # Ensure the images tensor is float32 as expected by the model\n",
        "    predictions = infer(tf.cast(images, tf.float32))\n",
        "\n",
        "    # The output of the serving_default signature is a dictionary of tensors\n",
        "    # The predictions are usually under a key like 'output_0' or similar\n",
        "    # We need to find the correct output tensor\n",
        "    # Let's assume the output key is 'output_0' based on typical SavedModel structure\n",
        "    # If this key is incorrect, we might need to inspect the loaded model's signatures\n",
        "    predicted_output_tensor = None\n",
        "    for key, value in predictions.items():\n",
        "        # Assuming the prediction output is a float tensor with shape (batch_size, 1)\n",
        "        if value.dtype == tf.float32 and value.shape.as_list()[-1] == 1:\n",
        "             predicted_output_tensor = value\n",
        "             break\n",
        "\n",
        "    if predicted_output_tensor is not None:\n",
        "        predictions = predicted_output_tensor\n",
        "        # Process only the first batch for demonstration\n",
        "        break\n",
        "    else:\n",
        "        print(\"Could not find the expected prediction output tensor in the model signature output.\")\n",
        "        predictions = None # Set predictions to None if the expected tensor is not found\n",
        "\n",
        "\n",
        "if predictions is not None:\n",
        "    # The predictions will be probabilities (due to the sigmoid activation)\n",
        "    # You can convert them to class labels (0 or 1) using a threshold (e.g., 0.5)\n",
        "    predicted_classes = (predictions > 0.5).numpy().astype(int)\n",
        "\n",
        "    print(\"Original labels (first batch):\")\n",
        "    print(labels)\n",
        "    print(\"\\nPredicted classes (first batch):\")\n",
        "    print(predicted_classes.flatten()) # Flatten for easier comparison\n",
        "\n",
        "    # Optional: Display the first few images and their predictions\n",
        "    # Note: This part is for visualization and requires matplotlib\n",
        "    # import matplotlib as plt\n",
        "    # plt.figure(figsize=(10, 10))\n",
        "    # for i in range(min(9, images.shape[0])): # Display up to 9 images or the number in the batch\n",
        "    #     ax = plt.subplot(3, 3, i + 1)\n",
        "    #     # ImageDataGenerator provides images already rescaled, so no need to convert to uint8 if model expects float\n",
        "    #     # If displaying, might need to un-normalize or handle float display depending on matplotlib settings\n",
        "    #     plt.imshow(images[i].numpy()) # Display as float image\n",
        "    #     # Ensure labels and predictions are correctly indexed\n",
        "    #     true_label = labels[i]\n",
        "    #     pred_label = predicted_classes.flatten()[i]\n",
        "    #     plt.title(f\"True: {true_label}, Pred: {pred_label}\")\n",
        "    #     plt.axis(\"off\")\n",
        "    # plt.show()\n",
        "\n",
        "else:\n",
        "    print(\"Prediction could not be processed due to missing output tensor.\")"
      ],
      "metadata": {
        "colab": {
          "base_uri": "https://localhost:8080/"
        },
        "id": "qcGB9KwLnLR6",
        "outputId": "0721f9d5-04cd-46b8-ee8f-83ba41895885"
      },
      "execution_count": null,
      "outputs": [
        {
          "output_type": "stream",
          "name": "stdout",
          "text": [
            "Original labels (first batch):\n",
            "[0. 0. 0. 0. 0. 0. 0. 0. 0. 0. 0. 0. 0. 0. 0. 0. 0. 0. 0. 0. 0. 0. 0. 0.\n",
            " 0. 0. 0. 0. 0. 0. 0. 0. 0. 0. 0. 0. 0. 0. 0. 0. 0. 0. 0. 0. 0. 0. 0. 0.\n",
            " 0. 0. 0. 0. 0. 0. 0. 0. 0. 0. 0. 0. 0. 0. 0. 0.]\n",
            "\n",
            "Predicted classes (first batch):\n",
            "[1 0 0 0 0 1 0 0 0 0 0 0 0 1 0 1 1 0 0 0 0 0 0 0 0 1 0 1 0 0 0 0 0 0 0 0 0\n",
            " 1 0 0 0 0 0 0 0 0 0 0 0 0 0 0 0 0 0 0 0 0 0 0 0 0 0 0]\n"
          ]
        }
      ]
    },
    {
      "cell_type": "code",
      "source": [
        "import tensorflow as tf\n",
        "import numpy as np\n",
        "import matplotlib.pyplot as plt\n",
        "\n",
        "# Load the saved model\n",
        "loaded_model = tf.saved_model.load(\"saved_model\")\n",
        "\n",
        "# Get the concrete function for inference\n",
        "infer = loaded_model.signatures[\"serving_default\"]\n",
        "\n",
        "# Inspect available output keys (optional debug)\n",
        "print(\"Model output keys:\", infer.structured_outputs.keys())\n",
        "\n",
        "# Get a batch of images and labels from the test dataset\n",
        "for images, labels in test_ds:\n",
        "    predictions = infer(tf.cast(images, tf.float32))  # Ensure float32 input\n",
        "\n",
        "    predicted_output_tensor = None\n",
        "    for key, value in predictions.items():\n",
        "        if value.dtype == tf.float32 and value.shape[-1] == 1:\n",
        "            predicted_output_tensor = value\n",
        "            break\n",
        "\n",
        "    if predicted_output_tensor is not None:\n",
        "        predictions = predicted_output_tensor\n",
        "        break\n",
        "    else:\n",
        "        print(\"Could not find the expected prediction output tensor.\")\n",
        "        predictions = None\n",
        "\n",
        "if predictions is not None:\n",
        "    predicted_classes = (predictions > 0.5).numpy().astype(int)\n",
        "\n",
        "    print(\"Original labels (first batch):\")\n",
        "    print(labels)\n",
        "\n",
        "    print(\"\\nPredicted classes (first batch):\")\n",
        "    print(predicted_classes.flatten())\n",
        "\n",
        "    # Visualization\n",
        "    plt.figure(figsize=(10, 10))\n",
        "    for i in range(min(9, images.shape[0])):\n",
        "        ax = plt.subplot(3, 3, i + 1)\n",
        "        plt.imshow(images[i])  # Removed .numpy()\n",
        "        true_label = labels[i]\n",
        "        pred_label = predicted_classes.flatten()[i]\n",
        "        plt.title(f\"True: {true_label}, Pred: {pred_label}\")\n",
        "        plt.axis(\"off\")\n",
        "    plt.tight_layout()\n",
        "    plt.show()\n",
        "else:\n",
        "    print(\"Prediction could not be processed due to missing output tensor.\")"
      ],
      "metadata": {
        "colab": {
          "base_uri": "https://localhost:8080/",
          "height": 1000
        },
        "id": "kCG1IQEvnr5S",
        "outputId": "d2e34705-07ad-409e-e303-249f5a459a69"
      },
      "execution_count": null,
      "outputs": [
        {
          "output_type": "stream",
          "name": "stdout",
          "text": [
            "Model output keys: dict_keys(['output_0'])\n",
            "Original labels (first batch):\n",
            "[0. 0. 0. 0. 0. 0. 0. 0. 0. 0. 0. 0. 0. 0. 0. 0. 0. 0. 0. 0. 0. 0. 0. 0.\n",
            " 0. 0. 0. 0. 0. 0. 0. 0. 0. 0. 0. 0. 0. 0. 0. 0. 0. 0. 0. 0. 0. 0. 0. 0.\n",
            " 0. 0. 0. 0. 0. 0. 0. 0. 0. 0. 0. 0. 0. 0. 0. 0.]\n",
            "\n",
            "Predicted classes (first batch):\n",
            "[0 0 0 0 1 0 1 0 0 0 0 0 0 0 1 0 0 0 1 0 0 0 1 0 0 0 0 0 0 0 0 1 0 0 0 0 0\n",
            " 0 1 0 0 0 0 1 0 0 1 0 0 0 0 0 0 0 0 0 0 0 0 0 0 0 0 0]\n"
          ]
        },
        {
          "output_type": "display_data",
          "data": {
            "text/plain": [
              "<Figure size 1000x1000 with 9 Axes>"
            ],
            "image/png": "[encoded data removed]"
          },
          "metadata": {}
        }
      ]
    },
    {
      "cell_type": "markdown",
      "source": [
        "9.Testing the Model with Rendom Imgaes"
      ],
      "metadata": {
        "id": "vlZUV0qvws1D"
      }
    },
    {
      "cell_type": "code",
      "source": [
        "from google.colab import files\n",
        "uploaded = files.upload()  # Choose your custom test image file"
      ],
      "metadata": {
        "colab": {
          "base_uri": "https://localhost:8080/",
          "height": 73
        },
        "id": "479d7DGhw3Ly",
        "outputId": "975669a2-f4dc-4be6-978f-c2e36e3fcc5b"
      },
      "execution_count": null,
      "outputs": [
        {
          "output_type": "display_data",
          "data": {
            "text/plain": [
              "<IPython.core.display.HTML object>"
            ],
            "text/html": [
              "\n",
              "     <input type=\"file\" id=\"files-38db8171-281d-4c12-8ced-785485dfc602\" name=\"files[]\" multiple disabled\n",
              "        style=\"border:none\" />\n",
              "     <output id=\"result-38db8171-281d-4c12-8ced-785485dfc602\">\n",
              "      Upload widget is only available when the cell has been executed in the\n",
              "      current browser session. Please rerun this cell to enable.\n",
              "      </output>\n",
              "      <script>// Copyright 2017 Google LLC\n",
              "//\n",
              "// Licensed under the Apache License, Version 2.0 (the \"License\");\n",
              "// you may not use this file except in compliance with the License.\n",
              "// You may obtain a copy of the License at\n",
              "//\n",
              "//      http://www.apache.org/licenses/LICENSE-2.0\n",
              "//\n",
              "// Unless required by applicable law or agreed to in writing, software\n",
              "// distributed under the License is distributed on an \"AS IS\" BASIS,\n",
              "// WITHOUT WARRANTIES OR CONDITIONS OF ANY KIND, either express or implied.\n",
              "// See the License for the specific language governing permissions and\n",
              "// limitations under the License.\n",
              "\n",
              "/**\n",
              " * @fileoverview Helpers for google.colab Python module.\n",
              " */\n",
              "(function(scope) {\n",
              "function span(text, styleAttributes = {}) {\n",
              "  const element = document.createElement('span');\n",
              "  element.textContent = text;\n",
              "  for (const key of Object.keys(styleAttributes)) {\n",
              "    element.style[key] = styleAttributes[key];\n",
              "  }\n",
              "  return element;\n",
              "}\n",
              "\n",
              "// Max number of bytes which will be uploaded at a time.\n",
              "const MAX_PAYLOAD_SIZE = 100 * 1024;\n",
              "\n",
              "function _uploadFiles(inputId, outputId) {\n",
              "  const steps = uploadFilesStep(inputId, outputId);\n",
              "  const outputElement = document.getElementById(outputId);\n",
              "  // Cache steps on the outputElement to make it available for the next call\n",
              "  // to uploadFilesContinue from Python.\n",
              "  outputElement.steps = steps;\n",
              "\n",
              "  return _uploadFilesContinue(outputId);\n",
              "}\n",
              "\n",
              "// This is roughly an async generator (not supported in the browser yet),\n",
              "// where there are multiple asynchronous steps and the Python side is going\n",
              "// to poll for completion of each step.\n",
              "// This uses a Promise to block the python side on completion of each step,\n",
              "// then passes the result of the previous step as the input to the next step.\n",
              "function _uploadFilesContinue(outputId) {\n",
              "  const outputElement = document.getElementById(outputId);\n",
              "  const steps = outputElement.steps;\n",
              "\n",
              "  const next = steps.next(outputElement.lastPromiseValue);\n",
              "  return Promise.resolve(next.value.promise).then((value) => {\n",
              "    // Cache the last promise value to make it available to the next\n",
              "    // step of the generator.\n",
              "    outputElement.lastPromiseValue = value;\n",
              "    return next.value.response;\n",
              "  });\n",
              "}\n",
              "\n",
              "/**\n",
              " * Generator function which is called between each async step of the upload\n",
              " * process.\n",
              " * @param {string} inputId Element ID of the input file picker element.\n",
              " * @param {string} outputId Element ID of the output display.\n",
              " * @return {!Iterable<!Object>} Iterable of next steps.\n",
              " */\n",
              "function* uploadFilesStep(inputId, outputId) {\n",
              "  const inputElement = document.getElementById(inputId);\n",
              "  inputElement.disabled = false;\n",
              "\n",
              "  const outputElement = document.getElementById(outputId);\n",
              "  outputElement.innerHTML = '';\n",
              "\n",
              "  const pickedPromise = new Promise((resolve) => {\n",
              "    inputElement.addEventListener('change', (e) => {\n",
              "      resolve(e.target.files);\n",
              "    });\n",
              "  });\n",
              "\n",
              "  const cancel = document.createElement('button');\n",
              "  inputElement.parentElement.appendChild(cancel);\n",
              "  cancel.textContent = 'Cancel upload';\n",
              "  const cancelPromise = new Promise((resolve) => {\n",
              "    cancel.onclick = () => {\n",
              "      resolve(null);\n",
              "    };\n",
              "  });\n",
              "\n",
              "  // Wait for the user to pick the files.\n",
              "  const files = yield {\n",
              "    promise: Promise.race([pickedPromise, cancelPromise]),\n",
              "    response: {\n",
              "      action: 'starting',\n",
              "    }\n",
              "  };\n",
              "\n",
              "  cancel.remove();\n",
              "\n",
              "  // Disable the input element since further picks are not allowed.\n",
              "  inputElement.disabled = true;\n",
              "\n",
              "  if (!files) {\n",
              "    return {\n",
              "      response: {\n",
              "        action: 'complete',\n",
              "      }\n",
              "    };\n",
              "  }\n",
              "\n",
              "  for (const file of files) {\n",
              "    const li = document.createElement('li');\n",
              "    li.append(span(file.name, {fontWeight: 'bold'}));\n",
              "    li.append(span(\n",
              "        `(${file.type || 'n/a'}) - ${file.size} bytes, ` +\n",
              "        `last modified: ${\n",
              "            file.lastModifiedDate ? file.lastModifiedDate.toLocaleDateString() :\n",
              "                                    'n/a'} - `));\n",
              "    const percent = span('0% done');\n",
              "    li.appendChild(percent);\n",
              "\n",
              "    outputElement.appendChild(li);\n",
              "\n",
              "    const fileDataPromise = new Promise((resolve) => {\n",
              "      const reader = new FileReader();\n",
              "      reader.onload = (e) => {\n",
              "        resolve(e.target.result);\n",
              "      };\n",
              "      reader.readAsArrayBuffer(file);\n",
              "    });\n",
              "    // Wait for the data to be ready.\n",
              "    let fileData = yield {\n",
              "      promise: fileDataPromise,\n",
              "      response: {\n",
              "        action: 'continue',\n",
              "      }\n",
              "    };\n",
              "\n",
              "    // Use a chunked sending to avoid message size limits. See b/62115660.\n",
              "    let position = 0;\n",
              "    do {\n",
              "      const length = Math.min(fileData.byteLength - position, MAX_PAYLOAD_SIZE);\n",
              "      const chunk = new Uint8Array(fileData, position, length);\n",
              "      position += length;\n",
              "\n",
              "      const base64 = btoa(String.fromCharCode.apply(null, chunk));\n",
              "      yield {\n",
              "        response: {\n",
              "          action: 'append',\n",
              "          file: file.name,\n",
              "          data: base64,\n",
              "        },\n",
              "      };\n",
              "\n",
              "      let percentDone = fileData.byteLength === 0 ?\n",
              "          100 :\n",
              "          Math.round((position / fileData.byteLength) * 100);\n",
              "      percent.textContent = `${percentDone}% done`;\n",
              "\n",
              "    } while (position < fileData.byteLength);\n",
              "  }\n",
              "\n",
              "  // All done.\n",
              "  yield {\n",
              "    response: {\n",
              "      action: 'complete',\n",
              "    }\n",
              "  };\n",
              "}\n",
              "\n",
              "scope.google = scope.google || {};\n",
              "scope.google.colab = scope.google.colab || {};\n",
              "scope.google.colab._files = {\n",
              "  _uploadFiles,\n",
              "  _uploadFilesContinue,\n",
              "};\n",
              "})(self);\n",
              "</script> "
            ]
          },
          "metadata": {}
        },
        {
          "output_type": "stream",
          "name": "stdout",
          "text": [
            "Saving 9382_idx5_x1151_y1601_class1.png to 9382_idx5_x1151_y1601_class1.png\n"
          ]
        }
      ]
    },
    {
      "cell_type": "markdown",
      "source": [
        "10. Load and Preprocess the Image"
      ],
      "metadata": {
        "id": "fqrsApkpxC4V"
      }
    },
    {
      "cell_type": "code",
      "source": [
        "from tensorflow.keras.preprocessing import image\n",
        "import numpy as np\n",
        "\n",
        "IMG_SIZE = (50, 50)\n",
        "\n",
        "# Replace 'your_image.png' with the actual file name uploaded\n",
        "img_path = list(uploaded.keys())[0]  # automatically get uploaded filename\n",
        "img = image.load_img(img_path, target_size=IMG_SIZE)\n",
        "img_array = image.img_to_array(img)\n",
        "img_array = img_array / 255.0  # normalize if your model was trained with rescaling\n",
        "img_array = np.expand_dims(img_array, axis=0)  # add batch dimension"
      ],
      "metadata": {
        "id": "0SO-0ZuyxIKS"
      },
      "execution_count": null,
      "outputs": []
    },
    {
      "cell_type": "markdown",
      "source": [
        "11. Run Prediction"
      ],
      "metadata": {
        "id": "L5-Qu3knxT_n"
      }
    },
    {
      "cell_type": "code",
      "source": [
        "# Use the loaded model (already loaded earlier)\n",
        "predictions = infer(tf.constant(img_array, dtype=tf.float32))\n",
        "\n",
        "# Get the output tensor\n",
        "predicted_output_tensor = None\n",
        "for key, value in predictions.items():\n",
        "    if value.dtype == tf.float32 and value.shape[-1] == 1:\n",
        "        predicted_output_tensor = value\n",
        "        break\n",
        "\n",
        "if predicted_output_tensor is not None:\n",
        "    prediction_prob = predicted_output_tensor.numpy()[0][0]\n",
        "    predicted_class = 1 if prediction_prob > 0.5 else 0\n",
        "    label = \"IDC (Cancer)\" if predicted_class == 1 else \"Benign (No Cancer)\"\n",
        "\n",
        "    print(f\"Prediction Probability: {prediction_prob:.4f}\")\n",
        "    print(f\"Predicted Class: {label}\")\n",
        "else:\n",
        "    print(\"Could not find the expected prediction output tensor.\")"
      ],
      "metadata": {
        "colab": {
          "base_uri": "https://localhost:8080/"
        },
        "id": "y9XbO2zpxVD9",
        "outputId": "0d2d4c6c-29d4-4557-95b7-9593bd3d8202"
      },
      "execution_count": null,
      "outputs": [
        {
          "output_type": "stream",
          "name": "stdout",
          "text": [
            "Prediction Probability: 0.5163\n",
            "Predicted Class: IDC (Cancer)\n"
          ]
        }
      ]
    },
    {
      "cell_type": "markdown",
      "source": [
        "12. Display the Image with Result"
      ],
      "metadata": {
        "id": "vbRoDXYSxpk6"
      }
    },
    {
      "cell_type": "code",
      "source": [
        "import matplotlib.pyplot as plt\n",
        "\n",
        "plt.imshow(img)\n",
        "plt.title(f\"Prediction: {label}\")\n",
        "plt.axis('off')\n",
        "plt.show()"
      ],
      "metadata": {
        "colab": {
          "base_uri": "https://localhost:8080/",
          "height": 428
        },
        "id": "HFHEt8uLxuEM",
        "outputId": "27f0f54f-837d-4b6f-dc11-902bac172ce7"
      },
      "execution_count": null,
      "outputs": [
        {
          "output_type": "display_data",
          "data": {
            "text/plain": [
              "<Figure size 640x480 with 1 Axes>"
            ],
            "image/png": "[encoded data removed]"
          },
          "metadata": {}
        }
      ]
    },
    {
      "cell_type": "markdown",
      "source": [
        "13. Another Prediction"
      ],
      "metadata": {
        "id": "wt4LeLpuxzdk"
      }
    },
    {
      "cell_type": "code",
      "source": [
        "from google.colab import files\n",
        "uploaded = files.upload()  # Choose your custom test image file"
      ],
      "metadata": {
        "colab": {
          "base_uri": "https://localhost:8080/",
          "height": 73
        },
        "id": "-fyJcjnZx5O6",
        "outputId": "723f49be-46d5-4041-d031-910d1507016d"
      },
      "execution_count": null,
      "outputs": [
        {
          "output_type": "display_data",
          "data": {
            "text/plain": [
              "<IPython.core.display.HTML object>"
            ],
            "text/html": [
              "\n",
              "     <input type=\"file\" id=\"files-55a2b377-f9c8-4c75-a2c7-64bfe659ab2c\" name=\"files[]\" multiple disabled\n",
              "        style=\"border:none\" />\n",
              "     <output id=\"result-55a2b377-f9c8-4c75-a2c7-64bfe659ab2c\">\n",
              "      Upload widget is only available when the cell has been executed in the\n",
              "      current browser session. Please rerun this cell to enable.\n",
              "      </output>\n",
              "      <script>// Copyright 2017 Google LLC\n",
              "//\n",
              "// Licensed under the Apache License, Version 2.0 (the \"License\");\n",
              "// you may not use this file except in compliance with the License.\n",
              "// You may obtain a copy of the License at\n",
              "//\n",
              "//      http://www.apache.org/licenses/LICENSE-2.0\n",
              "//\n",
              "// Unless required by applicable law or agreed to in writing, software\n",
              "// distributed under the License is distributed on an \"AS IS\" BASIS,\n",
              "// WITHOUT WARRANTIES OR CONDITIONS OF ANY KIND, either express or implied.\n",
              "// See the License for the specific language governing permissions and\n",
              "// limitations under the License.\n",
              "\n",
              "/**\n",
              " * @fileoverview Helpers for google.colab Python module.\n",
              " */\n",
              "(function(scope) {\n",
              "function span(text, styleAttributes = {}) {\n",
              "  const element = document.createElement('span');\n",
              "  element.textContent = text;\n",
              "  for (const key of Object.keys(styleAttributes)) {\n",
              "    element.style[key] = styleAttributes[key];\n",
              "  }\n",
              "  return element;\n",
              "}\n",
              "\n",
              "// Max number of bytes which will be uploaded at a time.\n",
              "const MAX_PAYLOAD_SIZE = 100 * 1024;\n",
              "\n",
              "function _uploadFiles(inputId, outputId) {\n",
              "  const steps = uploadFilesStep(inputId, outputId);\n",
              "  const outputElement = document.getElementById(outputId);\n",
              "  // Cache steps on the outputElement to make it available for the next call\n",
              "  // to uploadFilesContinue from Python.\n",
              "  outputElement.steps = steps;\n",
              "\n",
              "  return _uploadFilesContinue(outputId);\n",
              "}\n",
              "\n",
              "// This is roughly an async generator (not supported in the browser yet),\n",
              "// where there are multiple asynchronous steps and the Python side is going\n",
              "// to poll for completion of each step.\n",
              "// This uses a Promise to block the python side on completion of each step,\n",
              "// then passes the result of the previous step as the input to the next step.\n",
              "function _uploadFilesContinue(outputId) {\n",
              "  const outputElement = document.getElementById(outputId);\n",
              "  const steps = outputElement.steps;\n",
              "\n",
              "  const next = steps.next(outputElement.lastPromiseValue);\n",
              "  return Promise.resolve(next.value.promise).then((value) => {\n",
              "    // Cache the last promise value to make it available to the next\n",
              "    // step of the generator.\n",
              "    outputElement.lastPromiseValue = value;\n",
              "    return next.value.response;\n",
              "  });\n",
              "}\n",
              "\n",
              "/**\n",
              " * Generator function which is called between each async step of the upload\n",
              " * process.\n",
              " * @param {string} inputId Element ID of the input file picker element.\n",
              " * @param {string} outputId Element ID of the output display.\n",
              " * @return {!Iterable<!Object>} Iterable of next steps.\n",
              " */\n",
              "function* uploadFilesStep(inputId, outputId) {\n",
              "  const inputElement = document.getElementById(inputId);\n",
              "  inputElement.disabled = false;\n",
              "\n",
              "  const outputElement = document.getElementById(outputId);\n",
              "  outputElement.innerHTML = '';\n",
              "\n",
              "  const pickedPromise = new Promise((resolve) => {\n",
              "    inputElement.addEventListener('change', (e) => {\n",
              "      resolve(e.target.files);\n",
              "    });\n",
              "  });\n",
              "\n",
              "  const cancel = document.createElement('button');\n",
              "  inputElement.parentElement.appendChild(cancel);\n",
              "  cancel.textContent = 'Cancel upload';\n",
              "  const cancelPromise = new Promise((resolve) => {\n",
              "    cancel.onclick = () => {\n",
              "      resolve(null);\n",
              "    };\n",
              "  });\n",
              "\n",
              "  // Wait for the user to pick the files.\n",
              "  const files = yield {\n",
              "    promise: Promise.race([pickedPromise, cancelPromise]),\n",
              "    response: {\n",
              "      action: 'starting',\n",
              "    }\n",
              "  };\n",
              "\n",
              "  cancel.remove();\n",
              "\n",
              "  // Disable the input element since further picks are not allowed.\n",
              "  inputElement.disabled = true;\n",
              "\n",
              "  if (!files) {\n",
              "    return {\n",
              "      response: {\n",
              "        action: 'complete',\n",
              "      }\n",
              "    };\n",
              "  }\n",
              "\n",
              "  for (const file of files) {\n",
              "    const li = document.createElement('li');\n",
              "    li.append(span(file.name, {fontWeight: 'bold'}));\n",
              "    li.append(span(\n",
              "        `(${file.type || 'n/a'}) - ${file.size} bytes, ` +\n",
              "        `last modified: ${\n",
              "            file.lastModifiedDate ? file.lastModifiedDate.toLocaleDateString() :\n",
              "                                    'n/a'} - `));\n",
              "    const percent = span('0% done');\n",
              "    li.appendChild(percent);\n",
              "\n",
              "    outputElement.appendChild(li);\n",
              "\n",
              "    const fileDataPromise = new Promise((resolve) => {\n",
              "      const reader = new FileReader();\n",
              "      reader.onload = (e) => {\n",
              "        resolve(e.target.result);\n",
              "      };\n",
              "      reader.readAsArrayBuffer(file);\n",
              "    });\n",
              "    // Wait for the data to be ready.\n",
              "    let fileData = yield {\n",
              "      promise: fileDataPromise,\n",
              "      response: {\n",
              "        action: 'continue',\n",
              "      }\n",
              "    };\n",
              "\n",
              "    // Use a chunked sending to avoid message size limits. See b/62115660.\n",
              "    let position = 0;\n",
              "    do {\n",
              "      const length = Math.min(fileData.byteLength - position, MAX_PAYLOAD_SIZE);\n",
              "      const chunk = new Uint8Array(fileData, position, length);\n",
              "      position += length;\n",
              "\n",
              "      const base64 = btoa(String.fromCharCode.apply(null, chunk));\n",
              "      yield {\n",
              "        response: {\n",
              "          action: 'append',\n",
              "          file: file.name,\n",
              "          data: base64,\n",
              "        },\n",
              "      };\n",
              "\n",
              "      let percentDone = fileData.byteLength === 0 ?\n",
              "          100 :\n",
              "          Math.round((position / fileData.byteLength) * 100);\n",
              "      percent.textContent = `${percentDone}% done`;\n",
              "\n",
              "    } while (position < fileData.byteLength);\n",
              "  }\n",
              "\n",
              "  // All done.\n",
              "  yield {\n",
              "    response: {\n",
              "      action: 'complete',\n",
              "    }\n",
              "  };\n",
              "}\n",
              "\n",
              "scope.google = scope.google || {};\n",
              "scope.google.colab = scope.google.colab || {};\n",
              "scope.google.colab._files = {\n",
              "  _uploadFiles,\n",
              "  _uploadFilesContinue,\n",
              "};\n",
              "})(self);\n",
              "</script> "
            ]
          },
          "metadata": {}
        },
        {
          "output_type": "stream",
          "name": "stdout",
          "text": [
            "Saving 9382_idx5_x1001_y1001_class0.png to 9382_idx5_x1001_y1001_class0 (2).png\n"
          ]
        }
      ]
    },
    {
      "cell_type": "code",
      "source": [
        "from tensorflow.keras.preprocessing import image\n",
        "import numpy as np\n",
        "\n",
        "IMG_SIZE = (50, 50)\n",
        "\n",
        "# Replace 'your_image.png' with the actual file name uploaded\n",
        "img_path = list(uploaded.keys())[0]  # automatically get uploaded filename\n",
        "img = image.load_img(img_path, target_size=IMG_SIZE)\n",
        "img_array = image.img_to_array(img)\n",
        "img_array = img_array / 255.0  # normalize if your model was trained with rescaling\n",
        "img_array = np.expand_dims(img_array, axis=0)  # add batch dimension"
      ],
      "metadata": {
        "id": "h5DCk1AHyD8U"
      },
      "execution_count": null,
      "outputs": []
    },
    {
      "cell_type": "code",
      "source": [
        "# Use the loaded model (already loaded earlier)\n",
        "predictions = infer(tf.constant(img_array, dtype=tf.float32))\n",
        "\n",
        "# Get the output tensor\n",
        "predicted_output_tensor = None\n",
        "for key, value in predictions.items():\n",
        "    if value.dtype == tf.float32 and value.shape[-1] == 1:\n",
        "        predicted_output_tensor = value\n",
        "        break\n",
        "\n",
        "if predicted_output_tensor is not None:\n",
        "    prediction_prob = predicted_output_tensor.numpy()[0][0]\n",
        "    predicted_class = 1 if prediction_prob > 0.5 else 0\n",
        "    label = \"IDC (Cancer)\" if predicted_class == 1 else \"Benign (No Cancer)\"\n",
        "\n",
        "    print(f\"Prediction Probability: {prediction_prob:.4f}\")\n",
        "    print(f\"Predicted Class: {label}\")\n",
        "else:\n",
        "    print(\"Could not find the expected prediction output tensor.\")"
      ],
      "metadata": {
        "colab": {
          "base_uri": "https://localhost:8080/"
        },
        "id": "zCdjuPQKyF94",
        "outputId": "7a9c2e73-4ed3-4a48-d9c2-018f0e52aef2"
      },
      "execution_count": null,
      "outputs": [
        {
          "output_type": "stream",
          "name": "stdout",
          "text": [
            "Prediction Probability: 0.2827\n",
            "Predicted Class: Benign (No Cancer)\n"
          ]
        }
      ]
    },
    {
      "cell_type": "code",
      "source": [
        "import matplotlib.pyplot as plt\n",
        "\n",
        "plt.imshow(img)\n",
        "plt.title(f\"Prediction: {label}\")\n",
        "plt.axis('off')\n",
        "plt.show()\n"
      ],
      "metadata": {
        "colab": {
          "base_uri": "https://localhost:8080/",
          "height": 428
        },
        "id": "R2MO34ZvyzPx",
        "outputId": "6b1eb6de-4d28-4a82-dee2-b66aab86e496"
      },
      "execution_count": null,
      "outputs": [
        {
          "output_type": "display_data",
          "data": {
            "text/plain": [
              "<Figure size 640x480 with 1 Axes>"
            ],
            "image/png": "[encoded data removed]"
          },
          "metadata": {}
        }
      ]
    }
  ]
}
